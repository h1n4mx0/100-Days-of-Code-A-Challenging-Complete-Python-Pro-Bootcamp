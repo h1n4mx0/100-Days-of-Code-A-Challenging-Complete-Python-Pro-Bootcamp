{
 "cells": [
  {
   "cell_type": "markdown",
   "id": "7f126e7b",
   "metadata": {},
   "source": [
    "# Dictionaries In Python"
   ]
  },
  {
   "cell_type": "code",
   "execution_count": null,
   "id": "916d7946",
   "metadata": {},
   "outputs": [],
   "source": [
    "# What are Dictionaries?\n",
    "# The dictionary is an unordered collection data values in Python \n",
    "# that contains key:value pairs separated by commas inside curly brackets."
   ]
  },
  {
   "cell_type": "code",
   "execution_count": null,
   "id": "4db70cc2",
   "metadata": {},
   "outputs": [],
   "source": [
    "# Dictionaries are formed using the \"dict\" method available in Python"
   ]
  },
  {
   "cell_type": "code",
   "execution_count": null,
   "id": "60ae54e4",
   "metadata": {},
   "outputs": [],
   "source": [
    "# Dictionaries can be indexed using key as the index object, hence they fall under unordered collection of data values."
   ]
  },
  {
   "cell_type": "code",
   "execution_count": 5,
   "id": "cb7b8bdc",
   "metadata": {},
   "outputs": [
    {
     "name": "stdout",
     "output_type": "stream",
     "text": [
      "{'Key1': 1, 'key2': 2, 'key': 3, 'key4': 4}\n"
     ]
    }
   ],
   "source": [
    "# Let's create dictionary using Key and Value Pair:\n",
    "dict1 = {\"Key1\": 1, \"key2\":2, \"key\":3, \"key4\":4}\n",
    "print(dict1)"
   ]
  },
  {
   "cell_type": "code",
   "execution_count": 2,
   "id": "ed076f1a",
   "metadata": {},
   "outputs": [
    {
     "name": "stdout",
     "output_type": "stream",
     "text": [
      "Help on class dict in module builtins:\n",
      "\n",
      "class dict(object)\n",
      " |  dict() -> new empty dictionary\n",
      " |  dict(mapping) -> new dictionary initialized from a mapping object's\n",
      " |      (key, value) pairs\n",
      " |  dict(iterable) -> new dictionary initialized as if via:\n",
      " |      d = {}\n",
      " |      for k, v in iterable:\n",
      " |          d[k] = v\n",
      " |  dict(**kwargs) -> new dictionary initialized with the name=value pairs\n",
      " |      in the keyword argument list.  For example:  dict(one=1, two=2)\n",
      " |  \n",
      " |  Built-in subclasses:\n",
      " |      StgDict\n",
      " |  \n",
      " |  Methods defined here:\n",
      " |  \n",
      " |  __contains__(self, key, /)\n",
      " |      True if the dictionary has the specified key, else False.\n",
      " |  \n",
      " |  __delitem__(self, key, /)\n",
      " |      Delete self[key].\n",
      " |  \n",
      " |  __eq__(self, value, /)\n",
      " |      Return self==value.\n",
      " |  \n",
      " |  __ge__(self, value, /)\n",
      " |      Return self>=value.\n",
      " |  \n",
      " |  __getattribute__(self, name, /)\n",
      " |      Return getattr(self, name).\n",
      " |  \n",
      " |  __getitem__(...)\n",
      " |      x.__getitem__(y) <==> x[y]\n",
      " |  \n",
      " |  __gt__(self, value, /)\n",
      " |      Return self>value.\n",
      " |  \n",
      " |  __init__(self, /, *args, **kwargs)\n",
      " |      Initialize self.  See help(type(self)) for accurate signature.\n",
      " |  \n",
      " |  __ior__(self, value, /)\n",
      " |      Return self|=value.\n",
      " |  \n",
      " |  __iter__(self, /)\n",
      " |      Implement iter(self).\n",
      " |  \n",
      " |  __le__(self, value, /)\n",
      " |      Return self<=value.\n",
      " |  \n",
      " |  __len__(self, /)\n",
      " |      Return len(self).\n",
      " |  \n",
      " |  __lt__(self, value, /)\n",
      " |      Return self<value.\n",
      " |  \n",
      " |  __ne__(self, value, /)\n",
      " |      Return self!=value.\n",
      " |  \n",
      " |  __or__(self, value, /)\n",
      " |      Return self|value.\n",
      " |  \n",
      " |  __repr__(self, /)\n",
      " |      Return repr(self).\n",
      " |  \n",
      " |  __reversed__(self, /)\n",
      " |      Return a reverse iterator over the dict keys.\n",
      " |  \n",
      " |  __ror__(self, value, /)\n",
      " |      Return value|self.\n",
      " |  \n",
      " |  __setitem__(self, key, value, /)\n",
      " |      Set self[key] to value.\n",
      " |  \n",
      " |  __sizeof__(...)\n",
      " |      D.__sizeof__() -> size of D in memory, in bytes\n",
      " |  \n",
      " |  clear(...)\n",
      " |      D.clear() -> None.  Remove all items from D.\n",
      " |  \n",
      " |  copy(...)\n",
      " |      D.copy() -> a shallow copy of D\n",
      " |  \n",
      " |  get(self, key, default=None, /)\n",
      " |      Return the value for key if key is in the dictionary, else default.\n",
      " |  \n",
      " |  items(...)\n",
      " |      D.items() -> a set-like object providing a view on D's items\n",
      " |  \n",
      " |  keys(...)\n",
      " |      D.keys() -> a set-like object providing a view on D's keys\n",
      " |  \n",
      " |  pop(...)\n",
      " |      D.pop(k[,d]) -> v, remove specified key and return the corresponding value.\n",
      " |      \n",
      " |      If key is not found, default is returned if given, otherwise KeyError is raised\n",
      " |  \n",
      " |  popitem(self, /)\n",
      " |      Remove and return a (key, value) pair as a 2-tuple.\n",
      " |      \n",
      " |      Pairs are returned in LIFO (last-in, first-out) order.\n",
      " |      Raises KeyError if the dict is empty.\n",
      " |  \n",
      " |  setdefault(self, key, default=None, /)\n",
      " |      Insert key with a value of default if key is not in the dictionary.\n",
      " |      \n",
      " |      Return the value for key if key is in the dictionary, else default.\n",
      " |  \n",
      " |  update(...)\n",
      " |      D.update([E, ]**F) -> None.  Update D from dict/iterable E and F.\n",
      " |      If E is present and has a .keys() method, then does:  for k in E: D[k] = E[k]\n",
      " |      If E is present and lacks a .keys() method, then does:  for k, v in E: D[k] = v\n",
      " |      In either case, this is followed by: for k in F:  D[k] = F[k]\n",
      " |  \n",
      " |  values(...)\n",
      " |      D.values() -> an object providing a view on D's values\n",
      " |  \n",
      " |  ----------------------------------------------------------------------\n",
      " |  Class methods defined here:\n",
      " |  \n",
      " |  __class_getitem__(...) from builtins.type\n",
      " |      See PEP 585\n",
      " |  \n",
      " |  fromkeys(iterable, value=None, /) from builtins.type\n",
      " |      Create a new dictionary with keys from iterable and values set to value.\n",
      " |  \n",
      " |  ----------------------------------------------------------------------\n",
      " |  Static methods defined here:\n",
      " |  \n",
      " |  __new__(*args, **kwargs) from builtins.type\n",
      " |      Create and return a new object.  See help(type) for accurate signature.\n",
      " |  \n",
      " |  ----------------------------------------------------------------------\n",
      " |  Data and other attributes defined here:\n",
      " |  \n",
      " |  __hash__ = None\n",
      "\n"
     ]
    }
   ],
   "source": [
    "# Let's see the help on dictionary using help method\n",
    "help(dict)"
   ]
  },
  {
   "cell_type": "code",
   "execution_count": 3,
   "id": "276c2bb4",
   "metadata": {
    "scrolled": true
   },
   "outputs": [
    {
     "data": {
      "text/plain": [
       "['__class__',\n",
       " '__class_getitem__',\n",
       " '__contains__',\n",
       " '__delattr__',\n",
       " '__delitem__',\n",
       " '__dir__',\n",
       " '__doc__',\n",
       " '__eq__',\n",
       " '__format__',\n",
       " '__ge__',\n",
       " '__getattribute__',\n",
       " '__getitem__',\n",
       " '__gt__',\n",
       " '__hash__',\n",
       " '__init__',\n",
       " '__init_subclass__',\n",
       " '__ior__',\n",
       " '__iter__',\n",
       " '__le__',\n",
       " '__len__',\n",
       " '__lt__',\n",
       " '__ne__',\n",
       " '__new__',\n",
       " '__or__',\n",
       " '__reduce__',\n",
       " '__reduce_ex__',\n",
       " '__repr__',\n",
       " '__reversed__',\n",
       " '__ror__',\n",
       " '__setattr__',\n",
       " '__setitem__',\n",
       " '__sizeof__',\n",
       " '__str__',\n",
       " '__subclasshook__',\n",
       " 'clear',\n",
       " 'copy',\n",
       " 'fromkeys',\n",
       " 'get',\n",
       " 'items',\n",
       " 'keys',\n",
       " 'pop',\n",
       " 'popitem',\n",
       " 'setdefault',\n",
       " 'update',\n",
       " 'values']"
      ]
     },
     "execution_count": 3,
     "metadata": {},
     "output_type": "execute_result"
    }
   ],
   "source": [
    "# Let's see the methods available for the dictionary in Python\n",
    "dir(dict)"
   ]
  },
  {
   "cell_type": "code",
   "execution_count": 7,
   "id": "483793f5",
   "metadata": {},
   "outputs": [
    {
     "name": "stdout",
     "output_type": "stream",
     "text": [
      "{'Key1': 1, 'key2': 2, 'key': 3, 'key4': 4}\n",
      "dict_values([1, 2, 3, 4])\n"
     ]
    }
   ],
   "source": [
    "# Let's print the values of dictionary using the method 'values'\n",
    "print(dict1)\n",
    "print(dict1.values())"
   ]
  },
  {
   "cell_type": "code",
   "execution_count": 8,
   "id": "7500fefb",
   "metadata": {},
   "outputs": [
    {
     "name": "stdout",
     "output_type": "stream",
     "text": [
      "dict_keys(['Key1', 'key2', 'key', 'key4'])\n"
     ]
    }
   ],
   "source": [
    "# Dict keys using the method 'keys'\n",
    "print(dict1.keys())"
   ]
  },
  {
   "cell_type": "code",
   "execution_count": 9,
   "id": "b301e1c4",
   "metadata": {},
   "outputs": [
    {
     "name": "stdout",
     "output_type": "stream",
     "text": [
      "{}\n"
     ]
    }
   ],
   "source": [
    "# To create an empty dictionary we have to use {} Or dict()\n",
    "dict2 = {}\n",
    "print(dict2)"
   ]
  },
  {
   "cell_type": "code",
   "execution_count": 10,
   "id": "3bc14111",
   "metadata": {
    "scrolled": true
   },
   "outputs": [
    {
     "name": "stdout",
     "output_type": "stream",
     "text": [
      "{}\n"
     ]
    }
   ],
   "source": [
    "dict3 = dict()\n",
    "print(dict3)"
   ]
  },
  {
   "cell_type": "markdown",
   "id": "3a313ca7",
   "metadata": {},
   "source": [
    "### Different Ways To Create Dictionaries"
   ]
  },
  {
   "cell_type": "code",
   "execution_count": 11,
   "id": "4ec9dbc5",
   "metadata": {},
   "outputs": [
    {
     "name": "stdout",
     "output_type": "stream",
     "text": [
      "{'key1': 'Pruthvi', 'key2': 'Raja', 'key3': 'welcome', 'key5': 'To'}\n"
     ]
    }
   ],
   "source": [
    "# Dict can be created using different data types for keys and values like strings, integers, floats\n",
    "# Let's see with the strings as both keys and values\n",
    "dict4 = {'key1':\"Pruthvi\", 'key2':\"Raja\", 'key3':\"welcome\", 'key5':\"To\"}\n",
    "print(dict4)"
   ]
  },
  {
   "cell_type": "code",
   "execution_count": 12,
   "id": "77cd1e71",
   "metadata": {},
   "outputs": [
    {
     "name": "stdout",
     "output_type": "stream",
     "text": [
      "{'Key1': 1, 'key2': 2, 'key': 3, 'key4': 4}\n"
     ]
    }
   ],
   "source": [
    "# Dictionary using strings as keys and integers as values \n",
    "print(dict1)"
   ]
  },
  {
   "cell_type": "code",
   "execution_count": 13,
   "id": "8cb240f7",
   "metadata": {},
   "outputs": [
    {
     "name": "stdout",
     "output_type": "stream",
     "text": [
      "{'Key1': 1.0, 'key2': 2.5, 'key': 3.4, 'key4': 4.3}\n"
     ]
    }
   ],
   "source": [
    "# Dictionary using strings as keys and floating point numbers as values\n",
    "dict5 = {'Key1': 1.0, 'key2': 2.5, 'key': 3.4, 'key4': 4.3}\n",
    "print(dict5)"
   ]
  },
  {
   "cell_type": "code",
   "execution_count": 14,
   "id": "da92be6d",
   "metadata": {},
   "outputs": [
    {
     "name": "stdout",
     "output_type": "stream",
     "text": [
      "{1: 1.0, 2: 2.5, 3: 3.4, 4: 4.3}\n"
     ]
    }
   ],
   "source": [
    "# Dictionary using int as keys and floating point numbers as values\n",
    "dict6 = {1: 1.0, 2: 2.5, 3: 3.4, 4: 4.3}\n",
    "print(dict6)"
   ]
  },
  {
   "cell_type": "code",
   "execution_count": 15,
   "id": "b9f38761",
   "metadata": {},
   "outputs": [
    {
     "name": "stdout",
     "output_type": "stream",
     "text": [
      "{1: 'one', 2: 'two', 3: 'three', 4: 'four', 5: 'five'}\n"
     ]
    }
   ],
   "source": [
    "# Dictionary using int as keys and strings as values\n",
    "dict7 = {1:'one', 2:'two', 3:'three', 4:'four', 5:'five'}\n",
    "print(dict7)"
   ]
  },
  {
   "cell_type": "code",
   "execution_count": 16,
   "id": "b959df2a",
   "metadata": {},
   "outputs": [
    {
     "name": "stdout",
     "output_type": "stream",
     "text": [
      "{1.2: 1, 2.5: 2, 3.3: 3, 4.5: 40, 5.33: 50}\n"
     ]
    }
   ],
   "source": [
    "# Dictionary using floating point numbers as keys and strings as values\n",
    "dict8 = {1.2:1, 2.5:2, 3.3:3, 4.5:40, 5.33:50}\n",
    "print(dict8)"
   ]
  },
  {
   "cell_type": "code",
   "execution_count": 17,
   "id": "7bb48ccc",
   "metadata": {},
   "outputs": [
    {
     "ename": "NameError",
     "evalue": "name 'key1' is not defined",
     "output_type": "error",
     "traceback": [
      "\u001b[1;31m---------------------------------------------------------------------------\u001b[0m",
      "\u001b[1;31mNameError\u001b[0m                                 Traceback (most recent call last)",
      "\u001b[1;32m~\\AppData\\Local\\Temp/ipykernel_10348/1017689713.py\u001b[0m in \u001b[0;36m<module>\u001b[1;34m\u001b[0m\n\u001b[0;32m      1\u001b[0m \u001b[1;31m# So, dictionaris can accept any data type as keys and value pair except identfies.\u001b[0m\u001b[1;33m\u001b[0m\u001b[1;33m\u001b[0m\u001b[0m\n\u001b[0;32m      2\u001b[0m \u001b[1;31m# Let's see what happens when we use identifiers as keys or values inside the dictionaries.\u001b[0m\u001b[1;33m\u001b[0m\u001b[1;33m\u001b[0m\u001b[0m\n\u001b[1;32m----> 3\u001b[1;33m \u001b[0mdict9\u001b[0m \u001b[1;33m=\u001b[0m \u001b[1;33m{\u001b[0m\u001b[0mkey1\u001b[0m\u001b[1;33m:\u001b[0m\u001b[1;36m1\u001b[0m\u001b[1;33m,\u001b[0m \u001b[0mkey2\u001b[0m\u001b[1;33m:\u001b[0m\u001b[1;36m2\u001b[0m\u001b[1;33m,\u001b[0m \u001b[0mkey3\u001b[0m\u001b[1;33m:\u001b[0m\u001b[1;36m3\u001b[0m\u001b[1;33m,\u001b[0m \u001b[0mkey4\u001b[0m\u001b[1;33m:\u001b[0m\u001b[1;36m4\u001b[0m\u001b[1;33m}\u001b[0m\u001b[1;33m\u001b[0m\u001b[1;33m\u001b[0m\u001b[0m\n\u001b[0m\u001b[0;32m      4\u001b[0m \u001b[0mprint\u001b[0m\u001b[1;33m(\u001b[0m\u001b[0mdict9\u001b[0m\u001b[1;33m)\u001b[0m\u001b[1;33m\u001b[0m\u001b[1;33m\u001b[0m\u001b[0m\n",
      "\u001b[1;31mNameError\u001b[0m: name 'key1' is not defined"
     ]
    }
   ],
   "source": [
    "# So, dictionaris can accept any data type as keys and value pair except identfies.\n",
    "# Let's see what happens when we use identifiers as keys or values inside the dictionaries.\n",
    "# Means we can't use undefined variables as keys or values\n",
    "dict9 = {key1:1, key2:2, key3:3, key4:4}\n",
    "print(dict9)"
   ]
  },
  {
   "cell_type": "code",
   "execution_count": 21,
   "id": "67f0818c",
   "metadata": {},
   "outputs": [
    {
     "name": "stdout",
     "output_type": "stream",
     "text": [
      "{'one': 1, 'two': 2, 'three': 3, 'four': 4}\n"
     ]
    }
   ],
   "source": [
    "# Let's see with the defined variables:\n",
    "a = 1\n",
    "b = 2; c = 3; d = 4\n",
    "dict10 = {'one':a, 'two':b, 'three':c, 'four':d}\n",
    "print(dict10)"
   ]
  },
  {
   "cell_type": "code",
   "execution_count": 22,
   "id": "5e8ad60d",
   "metadata": {},
   "outputs": [
    {
     "name": "stdout",
     "output_type": "stream",
     "text": [
      "{1: 'one', 2: 'two', 3: 'three', 4: 'four'}\n"
     ]
    }
   ],
   "source": [
    "dict11 = {a:'one', b:'two', c:'three', d:'four'}\n",
    "print(dict11)"
   ]
  },
  {
   "cell_type": "code",
   "execution_count": null,
   "id": "8a39ae0f",
   "metadata": {},
   "outputs": [],
   "source": [
    "# So from this we can say that we can use defined variables but not the undefined variables \n",
    "# or identifiers because identifiers becomes undefined variables if we don't assign any values to them"
   ]
  },
  {
   "cell_type": "code",
   "execution_count": 23,
   "id": "ad2366ae",
   "metadata": {},
   "outputs": [
    {
     "name": "stdout",
     "output_type": "stream",
     "text": [
      "{'key': [1, 2], 'key2': [3, 4]}\n"
     ]
    }
   ],
   "source": [
    "# In dictionary keys are immutable, where as values are mutable so, we can use  mutable objects as\n",
    "# values and immutable objects as keys.\n",
    "dict12 = {'key':[1, 2], 'key2':[3, 4]}\n",
    "print(dict12)"
   ]
  },
  {
   "cell_type": "code",
   "execution_count": null,
   "id": "fa638c38",
   "metadata": {},
   "outputs": [],
   "source": [
    "# But vise versa is not possible, means we can't use mutable objects as keys because keys are \n",
    "# immutable in dictionary and \n",
    "# mutable objects as values because values are mutable in dictionary.\\\n"
   ]
  },
  {
   "cell_type": "code",
   "execution_count": 24,
   "id": "471fdecf",
   "metadata": {},
   "outputs": [
    {
     "ename": "TypeError",
     "evalue": "unhashable type: 'list'",
     "output_type": "error",
     "traceback": [
      "\u001b[1;31m---------------------------------------------------------------------------\u001b[0m",
      "\u001b[1;31mTypeError\u001b[0m                                 Traceback (most recent call last)",
      "\u001b[1;32m~\\AppData\\Local\\Temp/ipykernel_10348/2455855562.py\u001b[0m in \u001b[0;36m<module>\u001b[1;34m\u001b[0m\n\u001b[1;32m----> 1\u001b[1;33m \u001b[0mdict13\u001b[0m \u001b[1;33m=\u001b[0m \u001b[1;33m{\u001b[0m\u001b[1;33m[\u001b[0m\u001b[1;36m1\u001b[0m\u001b[1;33m,\u001b[0m \u001b[1;36m2\u001b[0m\u001b[1;33m]\u001b[0m\u001b[1;33m:\u001b[0m\u001b[1;34m'value1'\u001b[0m\u001b[1;33m,\u001b[0m \u001b[1;33m[\u001b[0m\u001b[1;36m3\u001b[0m\u001b[1;33m,\u001b[0m \u001b[1;36m4\u001b[0m\u001b[1;33m]\u001b[0m\u001b[1;33m:\u001b[0m\u001b[1;34m'value2'\u001b[0m\u001b[1;33m}\u001b[0m\u001b[1;33m\u001b[0m\u001b[1;33m\u001b[0m\u001b[0m\n\u001b[0m\u001b[0;32m      2\u001b[0m \u001b[0mprint\u001b[0m\u001b[1;33m(\u001b[0m\u001b[0mdict13\u001b[0m\u001b[1;33m)\u001b[0m\u001b[1;33m\u001b[0m\u001b[1;33m\u001b[0m\u001b[0m\n",
      "\u001b[1;31mTypeError\u001b[0m: unhashable type: 'list'"
     ]
    }
   ],
   "source": [
    "dict13 = {[1, 2]:'value1', [3, 4]:'value2'}\n",
    "print(dict13)"
   ]
  },
  {
   "cell_type": "code",
   "execution_count": 25,
   "id": "b3c2426e",
   "metadata": {},
   "outputs": [
    {
     "name": "stdout",
     "output_type": "stream",
     "text": [
      "{'key': (1, 2), 'key2': (3, 4)}\n"
     ]
    }
   ],
   "source": [
    "# Can we use tuples to create dictionary values as tuples are immutables and dictionary values are\n",
    "# mutable\n",
    "# Let's try to create dictionary with the tuples\n",
    "dict14 = {'key':(1, 2), 'key2':(3, 4)}\n",
    "print(dict14)"
   ]
  },
  {
   "cell_type": "code",
   "execution_count": null,
   "id": "ca55e064",
   "metadata": {},
   "outputs": [],
   "source": [
    "# Yes we can use immutable objects like tuples as values to create dictionary objects, but we need to\n",
    "# check whether we can able to mute later after creation of dictionary, using index method."
   ]
  },
  {
   "cell_type": "code",
   "execution_count": null,
   "id": "5e99043f",
   "metadata": {},
   "outputs": [],
   "source": [
    "# The same key cannot appear more than once in a collection. \n",
    "# If the key appears more than once, only the last will be retained. \n",
    "# The value can be of any data type. One value can be assigned to more than one key."
   ]
  },
  {
   "cell_type": "code",
   "execution_count": 27,
   "id": "ac686815",
   "metadata": {},
   "outputs": [
    {
     "name": "stdout",
     "output_type": "stream",
     "text": [
      "{1: 'One', 2: 'Twenty', 3: 'Three'}\n"
     ]
    }
   ],
   "source": [
    "dict15 = {1:\"One\", 2:\"Two\", 3:\"Three\", 2:\"Twenty\", 1:\"One\"}\n",
    "print(dict15)"
   ]
  },
  {
   "cell_type": "code",
   "execution_count": 40,
   "id": "1c1b99eb",
   "metadata": {},
   "outputs": [
    {
     "name": "stdout",
     "output_type": "stream",
     "text": [
      "{'one': 1, 'two': 2, 'three': 3}\n"
     ]
    }
   ],
   "source": [
    "# dict can also be created using dic() constructor method\n",
    "# While using dict() contructor method we can use the variable name directly without having to use\n",
    "# like strings as we have seen using the curly braces. And also this constructor utilzes = operator\n",
    "# to assign value to the key\n",
    "dict16 = dict(one=1, two=2, three=3)\n",
    "print(dict16)"
   ]
  },
  {
   "cell_type": "code",
   "execution_count": 41,
   "id": "792cd8fc",
   "metadata": {},
   "outputs": [
    {
     "name": "stdout",
     "output_type": "stream",
     "text": [
      "{'one': 'one', 'two': 'two', 'three': 'three', 'fourty': '40'}\n"
     ]
    }
   ],
   "source": [
    "dict17 = dict(one='one', two='two', three='three', fourty='40')\n",
    "print(dict17)"
   ]
  },
  {
   "cell_type": "code",
   "execution_count": 42,
   "id": "6d97eb01",
   "metadata": {},
   "outputs": [
    {
     "ename": "SyntaxError",
     "evalue": "expression cannot contain assignment, perhaps you meant \"==\"? (Temp/ipykernel_10348/1734683298.py, line 3)",
     "output_type": "error",
     "traceback": [
      "\u001b[1;36m  File \u001b[1;32m\"C:\\Users\\Admin\\AppData\\Local\\Temp/ipykernel_10348/1734683298.py\"\u001b[1;36m, line \u001b[1;32m3\u001b[0m\n\u001b[1;33m    dict18 = dict('one'=1, 'two'=2, 'three'=3)\u001b[0m\n\u001b[1;37m                  ^\u001b[0m\n\u001b[1;31mSyntaxError\u001b[0m\u001b[1;31m:\u001b[0m expression cannot contain assignment, perhaps you meant \"==\"?\n"
     ]
    }
   ],
   "source": [
    "# Since dict() method uses name=value pair, so we can't use strings as the key objects, if we try \n",
    "# to use the strings as the key objects, we will get an error, as per identifier rules\n",
    "dict18 = dict('one'=1, 'two'=2, 'three'=3)\n",
    "print(dict18)"
   ]
  },
  {
   "cell_type": "markdown",
   "id": "774bf73f",
   "metadata": {},
   "source": [
    "### Dictionary Methods:"
   ]
  },
  {
   "cell_type": "code",
   "execution_count": null,
   "id": "89609040",
   "metadata": {},
   "outputs": [],
   "source": [
    "# Let's see the dictionary methods one by one:\n",
    "\"\"\" \n",
    "'clear',\n",
    " 'copy',\n",
    " 'fromkeys',\n",
    " 'get',\n",
    " 'items',\n",
    " 'keys',\n",
    " 'pop',\n",
    " 'popitem',\n",
    " 'setdefault',\n",
    " 'update',\n",
    " 'values']\n",
    "\"\"\""
   ]
  },
  {
   "cell_type": "code",
   "execution_count": 45,
   "id": "7ca10dc4",
   "metadata": {},
   "outputs": [
    {
     "name": "stdout",
     "output_type": "stream",
     "text": [
      "{'one': 1, 'two': 2}\n"
     ]
    }
   ],
   "source": [
    "# 'clear' : This method will clear all the key value pair in the dictionary & makes it an empty dict\n",
    "dict19 = {'one':1, 'two':2}\n",
    "print(dict19)"
   ]
  },
  {
   "cell_type": "code",
   "execution_count": 46,
   "id": "51f08a02",
   "metadata": {},
   "outputs": [],
   "source": [
    "dict19.clear()\n",
    "#print(dict19)"
   ]
  },
  {
   "cell_type": "code",
   "execution_count": 47,
   "id": "87d53d82",
   "metadata": {},
   "outputs": [
    {
     "name": "stdout",
     "output_type": "stream",
     "text": [
      "{1: 'One', 2: 'Twenty', 3: 'Three'}\n"
     ]
    }
   ],
   "source": [
    "# 'copy' method will copy the key value pair to the new dictionary used\n",
    "dict20 = {1:\"One\", 2:\"Two\", 3:\"Three\", 2:\"Twenty\"}\n",
    "print(dict20)"
   ]
  },
  {
   "cell_type": "code",
   "execution_count": 48,
   "id": "b1218598",
   "metadata": {},
   "outputs": [
    {
     "name": "stdout",
     "output_type": "stream",
     "text": [
      "{1: 'One', 2: 'Twenty', 3: 'Three'}\n"
     ]
    }
   ],
   "source": [
    "dict21 = dict20.copy()\n",
    "print(dict21)"
   ]
  },
  {
   "cell_type": "code",
   "execution_count": 16,
   "id": "cefc4f9d",
   "metadata": {},
   "outputs": [
    {
     "name": "stdout",
     "output_type": "stream",
     "text": [
      "{'key1': 'Pruthvi', 'key2': 'Raja', 'key3': 'welcome', 'key4': 7, 'key5': 100}\n"
     ]
    }
   ],
   "source": [
    "# get() – Returns the value of specified key\n",
    "dict22 = {'key1':\"Pruthvi\", 'key2':\"Raja\", 'key3':\"welcome\", 'key4':7, 'key5':100 }\n",
    "print(dict22)"
   ]
  },
  {
   "cell_type": "code",
   "execution_count": 17,
   "id": "78c132fa",
   "metadata": {},
   "outputs": [
    {
     "name": "stdout",
     "output_type": "stream",
     "text": [
      "Raja\n"
     ]
    }
   ],
   "source": [
    "print(dict22.get('key2'))"
   ]
  },
  {
   "cell_type": "code",
   "execution_count": 18,
   "id": "28bda631",
   "metadata": {},
   "outputs": [
    {
     "name": "stdout",
     "output_type": "stream",
     "text": [
      "dict_items([('key1', 'Pruthvi'), ('key2', 'Raja'), ('key3', 'welcome'), ('key4', 7), ('key5', 100)])\n"
     ]
    }
   ],
   "source": [
    "# items() – Returns a list containing a tuple for each key-value pair\n",
    "print(dict22.items())"
   ]
  },
  {
   "cell_type": "code",
   "execution_count": 19,
   "id": "b3bfaf72",
   "metadata": {},
   "outputs": [
    {
     "name": "stdout",
     "output_type": "stream",
     "text": [
      "Pruthvi\n"
     ]
    }
   ],
   "source": [
    "# pop() – Remove the element with specified key and returns the removed value of the key\n",
    "print(dict22.pop('key1'))"
   ]
  },
  {
   "cell_type": "code",
   "execution_count": 20,
   "id": "510777b2",
   "metadata": {},
   "outputs": [
    {
     "name": "stdout",
     "output_type": "stream",
     "text": [
      "('key5', 100)\n"
     ]
    }
   ],
   "source": [
    "# popitem() – Removes the last inserted key-value pair\n",
    "print(dict22.popitem())"
   ]
  },
  {
   "cell_type": "code",
   "execution_count": 21,
   "id": "916c936f",
   "metadata": {},
   "outputs": [
    {
     "name": "stdout",
     "output_type": "stream",
     "text": [
      "{'key2': 'Raja', 'key3': 'welcome', 'key4': 7}\n"
     ]
    }
   ],
   "source": [
    "print(dict22)"
   ]
  },
  {
   "cell_type": "code",
   "execution_count": 24,
   "id": "30211729",
   "metadata": {},
   "outputs": [
    {
     "name": "stdout",
     "output_type": "stream",
     "text": [
      "{'key2': 'Raja', 'key3': 'welcome', 'key4': 7, 'key5': 9}\n"
     ]
    }
   ],
   "source": [
    "# update() – Updates dictionary with specified key-value pairs\n",
    "dict22.update({'key5': 9})\n",
    "print(dict22)"
   ]
  },
  {
   "cell_type": "code",
   "execution_count": 25,
   "id": "d93152b9",
   "metadata": {},
   "outputs": [
    {
     "data": {
      "text/plain": [
       "{1: 'Python', 2: 'Python', 3: 'Python', 4: 'Python', 5: 'Python'}"
      ]
     },
     "execution_count": 25,
     "metadata": {},
     "output_type": "execute_result"
    }
   ],
   "source": [
    "# fromkeys         | Create a new dictionary with keys from iterable and values set to value. |\n",
    "# dict22.fromkeys(iterable, value=None, /)\n",
    "dict22.fromkeys([1, 2, 3, 4, 5], 'Python')"
   ]
  },
  {
   "cell_type": "code",
   "execution_count": 28,
   "id": "3390fd15",
   "metadata": {},
   "outputs": [
    {
     "name": "stdout",
     "output_type": "stream",
     "text": [
      "{'key2': 'Raja', 'key3': 'welcome', 'key4': 7, 'key5': 9, 2: 7}\n"
     ]
    }
   ],
   "source": [
    "# dict22.setdefault(key, default=None, /)\n",
    "# Insert key with a value of default if key is not in the dictionary. Return the value for key if key is in the dictionary, else default.\n",
    "# Since 2 is not present in the dict22 it will assign 7 as the default value to key 2, \n",
    "dict22.setdefault(2, 7) \n",
    "print(dict22)"
   ]
  },
  {
   "cell_type": "code",
   "execution_count": 30,
   "id": "12a0c337",
   "metadata": {},
   "outputs": [
    {
     "name": "stdout",
     "output_type": "stream",
     "text": [
      "{'key2': 'Raja', 'key3': 'welcome', 'key4': 7, 'key5': 9, 2: 7}\n"
     ]
    }
   ],
   "source": [
    "# If the key exists then it will keep that key and value pair as default. \n",
    "dict22.setdefault('key3', 7) \n",
    "print(dict22)"
   ]
  },
  {
   "cell_type": "markdown",
   "id": "c7754d2f",
   "metadata": {},
   "source": [
    "#### Adding Elements To The Dictionary At Once"
   ]
  },
  {
   "cell_type": "code",
   "execution_count": 1,
   "id": "39492e55",
   "metadata": {},
   "outputs": [
    {
     "name": "stdout",
     "output_type": "stream",
     "text": [
      "Empty Dictionary: \n",
      "{}\n"
     ]
    }
   ],
   "source": [
    "# Creating an empty Dictionary\n",
    "dict_add = {}\n",
    "print(\"Empty Dictionary: \")\n",
    "print(dict_add)"
   ]
  },
  {
   "cell_type": "code",
   "execution_count": 2,
   "id": "f336d606",
   "metadata": {},
   "outputs": [
    {
     "name": "stdout",
     "output_type": "stream",
     "text": [
      "\n",
      "Dictionary after adding 3 elements: \n",
      "{0: 'Python', 2: 'For', 3: 'Engineers'}\n"
     ]
    }
   ],
   "source": [
    "# Adding elements one at a time\n",
    "dict_add[0] = 'Python'\n",
    "dict_add[2] = 'For'\n",
    "dict_add[3] = 'Engineers'\n",
    "print(\"\\nDictionary after adding 3 elements: \")\n",
    "print(dict_add)"
   ]
  },
  {
   "cell_type": "code",
   "execution_count": 3,
   "id": "0e7f4e69",
   "metadata": {},
   "outputs": [
    {
     "name": "stdout",
     "output_type": "stream",
     "text": [
      "\n",
      "Dictionary after adding 3 elements: \n",
      "{0: 'Python', 2: 'For', 3: 'Engineers', 'Value_set': (2, 3, 4)}\n"
     ]
    }
   ],
   "source": [
    "# Adding set of values\n",
    "# to a single Key\n",
    "dict_add['Value_set'] = 2, 3, 4\n",
    "print(\"\\nDictionary after adding 3 elements: \")\n",
    "print(dict_add)"
   ]
  },
  {
   "cell_type": "code",
   "execution_count": 4,
   "id": "77b45361",
   "metadata": {},
   "outputs": [
    {
     "name": "stdout",
     "output_type": "stream",
     "text": [
      "\n",
      "Updated key value: \n",
      "{0: 'Python', 2: 'Welcome', 3: 'Engineers', 'Value_set': (2, 3, 4)}\n"
     ]
    }
   ],
   "source": [
    "# Updating existing Key's Value\n",
    "dict_add[2] = 'Welcome'\n",
    "print(\"\\nUpdated key value: \")\n",
    "print(dict_add)"
   ]
  },
  {
   "cell_type": "code",
   "execution_count": 5,
   "id": "f0b4473f",
   "metadata": {},
   "outputs": [
    {
     "name": "stdout",
     "output_type": "stream",
     "text": [
      "\n",
      "Adding a Nested Key: \n",
      "{0: 'Python', 2: 'Welcome', 3: 'Engineers', 'Value_set': (2, 3, 4), 5: {'Nested': {'1': 'Life', '2': 'Geeks'}}}\n"
     ]
    }
   ],
   "source": [
    "# Adding Nested Key value to Dictionary\n",
    "dict_add[5] = {'Nested': {'1': 'Life', '2': 'Geeks'}}\n",
    "print(\"\\nAdding a Nested Key: \")\n",
    "print(dict_add)"
   ]
  },
  {
   "cell_type": "markdown",
   "id": "824c6c0e",
   "metadata": {},
   "source": [
    "### Accessing elements of a Dictionary"
   ]
  },
  {
   "cell_type": "code",
   "execution_count": 7,
   "id": "0730bf8d",
   "metadata": {},
   "outputs": [
    {
     "name": "stdout",
     "output_type": "stream",
     "text": [
      "{0: 'Python', 2: 'Welcome', 3: 'Engineers', 'Value_set': (2, 3, 4), 5: {'Nested': {'1': 'Life', '2': 'Geeks'}}}\n"
     ]
    }
   ],
   "source": [
    "print(dict_add)"
   ]
  },
  {
   "cell_type": "code",
   "execution_count": 8,
   "id": "13f259db",
   "metadata": {},
   "outputs": [
    {
     "name": "stdout",
     "output_type": "stream",
     "text": [
      "Python\n"
     ]
    }
   ],
   "source": [
    "# Accessing the elements using key as the index of the dictionary\n",
    "print(dict_add[0])"
   ]
  },
  {
   "cell_type": "code",
   "execution_count": 9,
   "id": "7477b61d",
   "metadata": {},
   "outputs": [
    {
     "name": "stdout",
     "output_type": "stream",
     "text": [
      "Engineers\n"
     ]
    }
   ],
   "source": [
    "print(dict_add[3])"
   ]
  },
  {
   "cell_type": "code",
   "execution_count": 10,
   "id": "fa60da70",
   "metadata": {},
   "outputs": [
    {
     "name": "stdout",
     "output_type": "stream",
     "text": [
      "(2, 3, 4)\n"
     ]
    }
   ],
   "source": [
    "print(dict_add['Value_set'])"
   ]
  },
  {
   "cell_type": "code",
   "execution_count": 11,
   "id": "9eb0cc8b",
   "metadata": {},
   "outputs": [
    {
     "name": "stdout",
     "output_type": "stream",
     "text": [
      "{'Nested': {'1': 'Life', '2': 'Geeks'}}\n"
     ]
    }
   ],
   "source": [
    "print(dict_add[5])"
   ]
  },
  {
   "cell_type": "code",
   "execution_count": 12,
   "id": "985981cf",
   "metadata": {},
   "outputs": [
    {
     "name": "stdout",
     "output_type": "stream",
     "text": [
      "{'1': 'Life', '2': 'Geeks'}\n"
     ]
    }
   ],
   "source": [
    "# To access the nested dictionary elements, we need to use the multi-index method; means nested index method to access the elements\n",
    "# For ex: To get the values of nested dictionary element 5 we can use multi-index\n",
    "print(dict_add[5]['Nested'])"
   ]
  },
  {
   "cell_type": "code",
   "execution_count": 13,
   "id": "8f8c16a5",
   "metadata": {},
   "outputs": [
    {
     "name": "stdout",
     "output_type": "stream",
     "text": [
      "Life\n"
     ]
    }
   ],
   "source": [
    "# Again to get the values of the inner most nested key, we need to use multi-index till we reach the inner most values of the key elements\n",
    "print(dict_add[5]['Nested']['1'])"
   ]
  },
  {
   "cell_type": "code",
   "execution_count": 14,
   "id": "585bdaa5",
   "metadata": {},
   "outputs": [
    {
     "name": "stdout",
     "output_type": "stream",
     "text": [
      "{'1': 'Life', '2': 'Geeks'}\n"
     ]
    }
   ],
   "source": [
    "# It is similar to like storing the nested dictionary key to some variable and then accessing the values of it like\n",
    "dict_add_Nested = dict_add[5]['Nested']\n",
    "print(dict_add_Nested)"
   ]
  },
  {
   "cell_type": "code",
   "execution_count": 15,
   "id": "f6b873bd",
   "metadata": {},
   "outputs": [
    {
     "name": "stdout",
     "output_type": "stream",
     "text": [
      "Life\n"
     ]
    }
   ],
   "source": [
    "print(dict_add_Nested['1'])"
   ]
  },
  {
   "cell_type": "code",
   "execution_count": null,
   "id": "64efd8b8",
   "metadata": {},
   "outputs": [],
   "source": []
  },
  {
   "cell_type": "code",
   "execution_count": null,
   "id": "3a81ad6f",
   "metadata": {},
   "outputs": [],
   "source": []
  },
  {
   "cell_type": "code",
   "execution_count": null,
   "id": "268cb23a",
   "metadata": {},
   "outputs": [],
   "source": []
  },
  {
   "cell_type": "code",
   "execution_count": null,
   "id": "e004fdf0",
   "metadata": {},
   "outputs": [],
   "source": []
  },
  {
   "cell_type": "code",
   "execution_count": null,
   "id": "deef3eb2",
   "metadata": {},
   "outputs": [],
   "source": []
  },
  {
   "cell_type": "code",
   "execution_count": null,
   "id": "ac826e03",
   "metadata": {},
   "outputs": [],
   "source": []
  },
  {
   "cell_type": "code",
   "execution_count": null,
   "id": "b4610e80",
   "metadata": {},
   "outputs": [],
   "source": []
  },
  {
   "cell_type": "code",
   "execution_count": null,
   "id": "67a62a87",
   "metadata": {},
   "outputs": [],
   "source": []
  },
  {
   "cell_type": "code",
   "execution_count": null,
   "id": "af34edd7",
   "metadata": {},
   "outputs": [],
   "source": []
  },
  {
   "cell_type": "code",
   "execution_count": null,
   "id": "6c99d356",
   "metadata": {},
   "outputs": [],
   "source": []
  }
 ],
 "metadata": {
  "kernelspec": {
   "display_name": "Python 3 (ipykernel)",
   "language": "python",
   "name": "python3"
  },
  "language_info": {
   "codemirror_mode": {
    "name": "ipython",
    "version": 3
   },
   "file_extension": ".py",
   "mimetype": "text/x-python",
   "name": "python",
   "nbconvert_exporter": "python",
   "pygments_lexer": "ipython3",
   "version": "3.9.13"
  }
 },
 "nbformat": 4,
 "nbformat_minor": 5
}
