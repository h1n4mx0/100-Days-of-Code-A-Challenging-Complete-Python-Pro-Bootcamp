{
 "cells": [
  {
   "cell_type": "markdown",
   "id": "07e5b233",
   "metadata": {},
   "source": [
    "# Sets In Python"
   ]
  },
  {
   "cell_type": "markdown",
   "id": "c56c3ea7",
   "metadata": {},
   "source": [
    "In Python, Set is an unordered collection of data type that is iterable, immutable and has no duplicate elements. \n",
    "The order of elements in a set is undefined though it may consist of various elements.\n",
    "The major advantage of using a set, as opposed to a list, is that it has a highly optimized method for checking whether a specific \n",
    "element is contained in the set."
   ]
  },
  {
   "cell_type": "markdown",
   "id": "d7e7b9f4",
   "metadata": {},
   "source": [
    "## Creating a Set"
   ]
  },
  {
   "cell_type": "markdown",
   "id": "0fdca759",
   "metadata": {},
   "source": [
    "Sets can be created by using the built-in set() function with an iterable object or a sequence by placing the sequence inside curly braces, separated by ‘comma’."
   ]
  },
  {
   "cell_type": "code",
   "execution_count": 3,
   "id": "39d59a40",
   "metadata": {},
   "outputs": [
    {
     "name": "stdout",
     "output_type": "stream",
     "text": [
      "set()\n",
      "<class 'set'>\n"
     ]
    }
   ],
   "source": [
    "# we can use set() function to create an empty set\n",
    "set1 = set()\n",
    "print(set1)\n",
    "print(type(set1))"
   ]
  },
  {
   "cell_type": "code",
   "execution_count": 4,
   "id": "09cc90ca",
   "metadata": {},
   "outputs": [
    {
     "name": "stdout",
     "output_type": "stream",
     "text": [
      "['__and__', '__class__', '__class_getitem__', '__contains__', '__delattr__', '__dir__', '__doc__', '__eq__', '__format__', '__ge__', '__getattribute__', '__gt__', '__hash__', '__iand__', '__init__', '__init_subclass__', '__ior__', '__isub__', '__iter__', '__ixor__', '__le__', '__len__', '__lt__', '__ne__', '__new__', '__or__', '__rand__', '__reduce__', '__reduce_ex__', '__repr__', '__ror__', '__rsub__', '__rxor__', '__setattr__', '__sizeof__', '__str__', '__sub__', '__subclasshook__', '__xor__', 'add', 'clear', 'copy', 'difference', 'difference_update', 'discard', 'intersection', 'intersection_update', 'isdisjoint', 'issubset', 'issuperset', 'pop', 'remove', 'symmetric_difference', 'symmetric_difference_update', 'union', 'update']\n"
     ]
    }
   ],
   "source": [
    "# Let's see the attributes and methods available for sets\n",
    "print(dir(set))"
   ]
  },
  {
   "cell_type": "code",
   "execution_count": 5,
   "id": "023914a2",
   "metadata": {},
   "outputs": [
    {
     "name": "stdout",
     "output_type": "stream",
     "text": [
      "Help on class set in module builtins:\n",
      "\n",
      "class set(object)\n",
      " |  set() -> new empty set object\n",
      " |  set(iterable) -> new set object\n",
      " |  \n",
      " |  Build an unordered collection of unique elements.\n",
      " |  \n",
      " |  Methods defined here:\n",
      " |  \n",
      " |  __and__(self, value, /)\n",
      " |      Return self&value.\n",
      " |  \n",
      " |  __contains__(...)\n",
      " |      x.__contains__(y) <==> y in x.\n",
      " |  \n",
      " |  __eq__(self, value, /)\n",
      " |      Return self==value.\n",
      " |  \n",
      " |  __ge__(self, value, /)\n",
      " |      Return self>=value.\n",
      " |  \n",
      " |  __getattribute__(self, name, /)\n",
      " |      Return getattr(self, name).\n",
      " |  \n",
      " |  __gt__(self, value, /)\n",
      " |      Return self>value.\n",
      " |  \n",
      " |  __iand__(self, value, /)\n",
      " |      Return self&=value.\n",
      " |  \n",
      " |  __init__(self, /, *args, **kwargs)\n",
      " |      Initialize self.  See help(type(self)) for accurate signature.\n",
      " |  \n",
      " |  __ior__(self, value, /)\n",
      " |      Return self|=value.\n",
      " |  \n",
      " |  __isub__(self, value, /)\n",
      " |      Return self-=value.\n",
      " |  \n",
      " |  __iter__(self, /)\n",
      " |      Implement iter(self).\n",
      " |  \n",
      " |  __ixor__(self, value, /)\n",
      " |      Return self^=value.\n",
      " |  \n",
      " |  __le__(self, value, /)\n",
      " |      Return self<=value.\n",
      " |  \n",
      " |  __len__(self, /)\n",
      " |      Return len(self).\n",
      " |  \n",
      " |  __lt__(self, value, /)\n",
      " |      Return self<value.\n",
      " |  \n",
      " |  __ne__(self, value, /)\n",
      " |      Return self!=value.\n",
      " |  \n",
      " |  __or__(self, value, /)\n",
      " |      Return self|value.\n",
      " |  \n",
      " |  __rand__(self, value, /)\n",
      " |      Return value&self.\n",
      " |  \n",
      " |  __reduce__(...)\n",
      " |      Return state information for pickling.\n",
      " |  \n",
      " |  __repr__(self, /)\n",
      " |      Return repr(self).\n",
      " |  \n",
      " |  __ror__(self, value, /)\n",
      " |      Return value|self.\n",
      " |  \n",
      " |  __rsub__(self, value, /)\n",
      " |      Return value-self.\n",
      " |  \n",
      " |  __rxor__(self, value, /)\n",
      " |      Return value^self.\n",
      " |  \n",
      " |  __sizeof__(...)\n",
      " |      S.__sizeof__() -> size of S in memory, in bytes\n",
      " |  \n",
      " |  __sub__(self, value, /)\n",
      " |      Return self-value.\n",
      " |  \n",
      " |  __xor__(self, value, /)\n",
      " |      Return self^value.\n",
      " |  \n",
      " |  add(...)\n",
      " |      Add an element to a set.\n",
      " |      \n",
      " |      This has no effect if the element is already present.\n",
      " |  \n",
      " |  clear(...)\n",
      " |      Remove all elements from this set.\n",
      " |  \n",
      " |  copy(...)\n",
      " |      Return a shallow copy of a set.\n",
      " |  \n",
      " |  difference(...)\n",
      " |      Return the difference of two or more sets as a new set.\n",
      " |      \n",
      " |      (i.e. all elements that are in this set but not the others.)\n",
      " |  \n",
      " |  difference_update(...)\n",
      " |      Remove all elements of another set from this set.\n",
      " |  \n",
      " |  discard(...)\n",
      " |      Remove an element from a set if it is a member.\n",
      " |      \n",
      " |      If the element is not a member, do nothing.\n",
      " |  \n",
      " |  intersection(...)\n",
      " |      Return the intersection of two sets as a new set.\n",
      " |      \n",
      " |      (i.e. all elements that are in both sets.)\n",
      " |  \n",
      " |  intersection_update(...)\n",
      " |      Update a set with the intersection of itself and another.\n",
      " |  \n",
      " |  isdisjoint(...)\n",
      " |      Return True if two sets have a null intersection.\n",
      " |  \n",
      " |  issubset(...)\n",
      " |      Report whether another set contains this set.\n",
      " |  \n",
      " |  issuperset(...)\n",
      " |      Report whether this set contains another set.\n",
      " |  \n",
      " |  pop(...)\n",
      " |      Remove and return an arbitrary set element.\n",
      " |      Raises KeyError if the set is empty.\n",
      " |  \n",
      " |  remove(...)\n",
      " |      Remove an element from a set; it must be a member.\n",
      " |      \n",
      " |      If the element is not a member, raise a KeyError.\n",
      " |  \n",
      " |  symmetric_difference(...)\n",
      " |      Return the symmetric difference of two sets as a new set.\n",
      " |      \n",
      " |      (i.e. all elements that are in exactly one of the sets.)\n",
      " |  \n",
      " |  symmetric_difference_update(...)\n",
      " |      Update a set with the symmetric difference of itself and another.\n",
      " |  \n",
      " |  union(...)\n",
      " |      Return the union of sets as a new set.\n",
      " |      \n",
      " |      (i.e. all elements that are in either set.)\n",
      " |  \n",
      " |  update(...)\n",
      " |      Update a set with the union of itself and others.\n",
      " |  \n",
      " |  ----------------------------------------------------------------------\n",
      " |  Class methods defined here:\n",
      " |  \n",
      " |  __class_getitem__(...) from builtins.type\n",
      " |      See PEP 585\n",
      " |  \n",
      " |  ----------------------------------------------------------------------\n",
      " |  Static methods defined here:\n",
      " |  \n",
      " |  __new__(*args, **kwargs) from builtins.type\n",
      " |      Create and return a new object.  See help(type) for accurate signature.\n",
      " |  \n",
      " |  ----------------------------------------------------------------------\n",
      " |  Data and other attributes defined here:\n",
      " |  \n",
      " |  __hash__ = None\n",
      "\n",
      "None\n"
     ]
    }
   ],
   "source": [
    "print(help(set))"
   ]
  },
  {
   "cell_type": "code",
   "execution_count": 6,
   "id": "6a98af5c",
   "metadata": {},
   "outputs": [
    {
     "name": "stdout",
     "output_type": "stream",
     "text": [
      "{'L', 'H', 'N', 'U', 'W', 'R', 'J', 'I', 'C', 'E', 'G', 'T', ' ', 'O', 'P', 'A', 'M', 'F', 'Y', 'S', 'V'}\n"
     ]
    }
   ],
   "source": [
    "# Since set is an unordered collection of elements, if we run the below code with the string, we will get an unordered collection of set elements \n",
    "# --with no repitition of letters or charectors of the set elements\n",
    "set2 = set('PRUTHVIRAJA L WELCOME TO PYTHON FOR ENGINEERS')\n",
    "print(set2)"
   ]
  },
  {
   "cell_type": "code",
   "execution_count": 7,
   "id": "cd1bd02b",
   "metadata": {},
   "outputs": [
    {
     "name": "stdout",
     "output_type": "stream",
     "text": [
      "{'Course', 'To', 'Pruthvi', 'Python', 'Welcome'}\n"
     ]
    }
   ],
   "source": [
    "# To create a set with strings, we can use the list of string elements\n",
    "list1 = [\"Pruthvi\", \"Welcome\", \"To\", \"Python\", \"Course\"]\n",
    "set3 = set(list1)\n",
    "print(set3)"
   ]
  },
  {
   "cell_type": "code",
   "execution_count": 8,
   "id": "0d6b1700",
   "metadata": {},
   "outputs": [
    {
     "name": "stdout",
     "output_type": "stream",
     "text": [
      "{'Python', 'Course', 'To', 'Welcome', 'Pruthvi'}\n"
     ]
    }
   ],
   "source": [
    "# Alternatively we can create the  above set with the { } with the list of elements separated by 'comma' \n",
    "set4 = {\"Pruthvi\", \"Course\", \"To\", \"Welcome\", \"Python\"}\n",
    "print(set4)"
   ]
  },
  {
   "cell_type": "code",
   "execution_count": 9,
   "id": "f2650762",
   "metadata": {},
   "outputs": [
    {
     "name": "stdout",
     "output_type": "stream",
     "text": [
      "{1, 2, 3, 4, 5, 6, 'Pruthvi'}\n"
     ]
    }
   ],
   "source": [
    "# Creating sets with Tuple\n",
    "# Order of elements in a set is undefined and is unchangeable\n",
    "# Type of elements in a set need not be the same, various mixed up data type values can also be passed to the set.\n",
    "set5 = set((1, 2, 3, 4, 5, 5, 6, \"Pruthvi\"))\n",
    "print(set5)"
   ]
  },
  {
   "cell_type": "markdown",
   "id": "18bfb2b1",
   "metadata": {},
   "source": [
    "## Set Methods OR Operations On Sets"
   ]
  },
  {
   "cell_type": "markdown",
   "id": "6f0b9b13",
   "metadata": {},
   "source": [
    "#### Set \"add\" method"
   ]
  },
  {
   "cell_type": "code",
   "execution_count": 23,
   "id": "9f3ccfff",
   "metadata": {},
   "outputs": [
    {
     "name": "stdout",
     "output_type": "stream",
     "text": [
      "set()\n",
      "<class 'set'>\n",
      "After adding the elements to the set6:\n",
      "{1, 2}\n"
     ]
    }
   ],
   "source": [
    "# Elements can be added to the Set by using built-in add() function.\n",
    "#Only one element at a time can be added to the set by using add() method, loops are used to add multiple elements at a time with the use of add() method.\n",
    "set6 = set()\n",
    "print(set6)\n",
    "print(type(set6))\n",
    "print('After adding the elements to the set6:')\n",
    "set6.add(1)\n",
    "set6.add(2)\n",
    "print(set6)"
   ]
  },
  {
   "cell_type": "code",
   "execution_count": 24,
   "id": "4d5a7989",
   "metadata": {},
   "outputs": [
    {
     "name": "stdout",
     "output_type": "stream",
     "text": [
      "{(3, 4, 5, 6, 7), 1, 2}\n"
     ]
    }
   ],
   "source": [
    "# Let's add loops OR iterable objects to the set6\n",
    "set6.add((3, 4, 5, 6, 7))\n",
    "print(set6)"
   ]
  },
  {
   "cell_type": "code",
   "execution_count": 25,
   "id": "7830d63f",
   "metadata": {},
   "outputs": [
    {
     "name": "stdout",
     "output_type": "stream",
     "text": [
      "{(3, 4, 5, 6, 7), 1, 2, 8, 9, 10, 11, 12, 13, 14}\n"
     ]
    }
   ],
   "source": [
    "# Adding lists to the set\n",
    "list2 = [8, 9, 10, 11, 12, 13, 14]\n",
    "for i in range(len(list2)):\n",
    "    set6.add(list2[i])\n",
    "\n",
    "print(set6)"
   ]
  },
  {
   "cell_type": "markdown",
   "id": "d1084112",
   "metadata": {},
   "source": [
    "#### Set \"remove\" method"
   ]
  },
  {
   "cell_type": "code",
   "execution_count": 9,
   "id": "c957d8a3",
   "metadata": {},
   "outputs": [
    {
     "name": "stdout",
     "output_type": "stream",
     "text": [
      "{1, 2, 3, 4, 5, 6, 7, 8, 9, 10}\n"
     ]
    }
   ],
   "source": [
    "set7 = set((1, 2, 3, 4, 5 ,6, 7, 8, 9, 10))\n",
    "print(set7)"
   ]
  },
  {
   "cell_type": "code",
   "execution_count": 10,
   "id": "a80d4f2f",
   "metadata": {},
   "outputs": [
    {
     "name": "stdout",
     "output_type": "stream",
     "text": [
      "{1, 2, 3, 4, 5, 6, 7, 9, 10}\n"
     ]
    }
   ],
   "source": [
    "set7.remove(8)\n",
    "print(set7)"
   ]
  },
  {
   "cell_type": "code",
   "execution_count": 11,
   "id": "28777929",
   "metadata": {},
   "outputs": [
    {
     "ename": "KeyError",
     "evalue": "11",
     "output_type": "error",
     "traceback": [
      "\u001b[1;31m---------------------------------------------------------------------------\u001b[0m",
      "\u001b[1;31mKeyError\u001b[0m                                  Traceback (most recent call last)",
      "\u001b[1;32m~\\AppData\\Local\\Temp\\ipykernel_17576\\3412578014.py\u001b[0m in \u001b[0;36m<cell line: 2>\u001b[1;34m()\u001b[0m\n\u001b[0;32m      1\u001b[0m \u001b[1;31m# If the item to be removed doesn't exist then 'remove' method will raise an error\u001b[0m\u001b[1;33m\u001b[0m\u001b[1;33m\u001b[0m\u001b[0m\n\u001b[1;32m----> 2\u001b[1;33m \u001b[0mset7\u001b[0m\u001b[1;33m.\u001b[0m\u001b[0mremove\u001b[0m\u001b[1;33m(\u001b[0m\u001b[1;36m11\u001b[0m\u001b[1;33m)\u001b[0m\u001b[1;33m\u001b[0m\u001b[1;33m\u001b[0m\u001b[0m\n\u001b[0m",
      "\u001b[1;31mKeyError\u001b[0m: 11"
     ]
    }
   ],
   "source": [
    "# If the item to be removed doesn't exist then 'remove' method will raise an error\n",
    "set7.remove(11)"
   ]
  },
  {
   "cell_type": "markdown",
   "id": "3a8f0bc5",
   "metadata": {},
   "source": [
    "#### Set 'discard' method"
   ]
  },
  {
   "cell_type": "code",
   "execution_count": 12,
   "id": "a0bf1c38",
   "metadata": {},
   "outputs": [
    {
     "name": "stdout",
     "output_type": "stream",
     "text": [
      "{1, 2, 3, 4, 5, 6, 7, 10}\n"
     ]
    }
   ],
   "source": [
    "# It works similar to like 'remove' but it doesn't raise an error if the item doesn't find in the set\n",
    "set7.discard(9)\n",
    "print(set7)"
   ]
  },
  {
   "cell_type": "code",
   "execution_count": 13,
   "id": "13350fbd",
   "metadata": {},
   "outputs": [
    {
     "name": "stdout",
     "output_type": "stream",
     "text": [
      "{1, 2, 3, 4, 5, 6, 7, 10}\n"
     ]
    }
   ],
   "source": [
    "set7.discard(11)\n",
    "print(set7)"
   ]
  },
  {
   "cell_type": "markdown",
   "id": "12e4ba49",
   "metadata": {},
   "source": [
    "#### Set 'pop' method"
   ]
  },
  {
   "cell_type": "code",
   "execution_count": 14,
   "id": "0d21302a",
   "metadata": {},
   "outputs": [
    {
     "name": "stdout",
     "output_type": "stream",
     "text": [
      "{1, 2, 3, 4, 5, 6, 7, 10}\n"
     ]
    }
   ],
   "source": [
    "# Since 'pop' method will remove the last item from the set, we should avoid using it unless until it is neccessary\n",
    "# But in set, set is an unordered collection of data elements, so it can remove any random item from the set\n",
    "print(set7)"
   ]
  },
  {
   "cell_type": "code",
   "execution_count": 15,
   "id": "119a431f",
   "metadata": {},
   "outputs": [
    {
     "name": "stdout",
     "output_type": "stream",
     "text": [
      "{2, 3, 4, 5, 6, 7, 10}\n"
     ]
    }
   ],
   "source": [
    "set7.pop()\n",
    "print(set7)"
   ]
  },
  {
   "cell_type": "markdown",
   "id": "77f88e4a",
   "metadata": {},
   "source": [
    "#### 'len' function to print the length of the set"
   ]
  },
  {
   "cell_type": "code",
   "execution_count": 17,
   "id": "f41e8876",
   "metadata": {},
   "outputs": [
    {
     "name": "stdout",
     "output_type": "stream",
     "text": [
      "7\n"
     ]
    }
   ],
   "source": [
    "print(len(set7))"
   ]
  },
  {
   "cell_type": "markdown",
   "id": "840bf7a4",
   "metadata": {},
   "source": [
    "#### 'clear' and 'del' methods in Set"
   ]
  },
  {
   "cell_type": "code",
   "execution_count": 18,
   "id": "243baa5b",
   "metadata": {},
   "outputs": [
    {
     "name": "stdout",
     "output_type": "stream",
     "text": [
      "{1, 2, 3, 4, 5, 6}\n"
     ]
    }
   ],
   "source": [
    "set8 = {1, 2, 3, 4, 5, 6}\n",
    "print(set8)"
   ]
  },
  {
   "cell_type": "code",
   "execution_count": 19,
   "id": "ee3c9c38",
   "metadata": {},
   "outputs": [
    {
     "name": "stdout",
     "output_type": "stream",
     "text": [
      "set()\n"
     ]
    }
   ],
   "source": [
    "set8.clear()\n",
    "print(set8)"
   ]
  },
  {
   "cell_type": "code",
   "execution_count": 20,
   "id": "24ea0856",
   "metadata": {},
   "outputs": [
    {
     "name": "stdout",
     "output_type": "stream",
     "text": [
      "{1, 2, 3, 4, 5, 6}\n"
     ]
    }
   ],
   "source": [
    "set9 = {1, 2, 3, 4, 5, 6}\n",
    "print(set9)"
   ]
  },
  {
   "cell_type": "code",
   "execution_count": 21,
   "id": "cf4fce7d",
   "metadata": {},
   "outputs": [
    {
     "ename": "NameError",
     "evalue": "name 'set9' is not defined",
     "output_type": "error",
     "traceback": [
      "\u001b[1;31m---------------------------------------------------------------------------\u001b[0m",
      "\u001b[1;31mNameError\u001b[0m                                 Traceback (most recent call last)",
      "\u001b[1;32m~\\AppData\\Local\\Temp\\ipykernel_17576\\2344071410.py\u001b[0m in \u001b[0;36m<cell line: 2>\u001b[1;34m()\u001b[0m\n\u001b[0;32m      1\u001b[0m \u001b[1;32mdel\u001b[0m \u001b[0mset9\u001b[0m\u001b[1;33m\u001b[0m\u001b[1;33m\u001b[0m\u001b[0m\n\u001b[1;32m----> 2\u001b[1;33m \u001b[0mprint\u001b[0m\u001b[1;33m(\u001b[0m\u001b[0mset9\u001b[0m\u001b[1;33m)\u001b[0m\u001b[1;33m\u001b[0m\u001b[1;33m\u001b[0m\u001b[0m\n\u001b[0m",
      "\u001b[1;31mNameError\u001b[0m: name 'set9' is not defined"
     ]
    }
   ],
   "source": [
    "del set9\n",
    "print(set9)"
   ]
  },
  {
   "cell_type": "markdown",
   "id": "235397e1",
   "metadata": {},
   "source": [
    "#### copy(): It returns a copy of a set."
   ]
  },
  {
   "cell_type": "code",
   "execution_count": 22,
   "id": "48b02f49",
   "metadata": {},
   "outputs": [],
   "source": [
    "set10 = {1, 2, 3, 4, 5, 6}\n",
    "set11 = set10.copy()\n",
    "del set10"
   ]
  },
  {
   "cell_type": "code",
   "execution_count": 23,
   "id": "ad41ffb2",
   "metadata": {},
   "outputs": [
    {
     "name": "stdout",
     "output_type": "stream",
     "text": [
      "{1, 2, 3, 4, 5, 6}\n"
     ]
    }
   ],
   "source": [
    "print(set11)"
   ]
  },
  {
   "cell_type": "markdown",
   "id": "3f6d8f8d",
   "metadata": {},
   "source": [
    "\n",
    "### Can we directly convert list into sets?: Yes we can convert list into a set using built in set() function."
   ]
  },
  {
   "cell_type": "code",
   "execution_count": 25,
   "id": "eab68cb7",
   "metadata": {},
   "outputs": [
    {
     "name": "stdout",
     "output_type": "stream",
     "text": [
      "{1, 2, 3}\n"
     ]
    }
   ],
   "source": [
    "# But set will remove duplicate elements which are present in list\n",
    "list4 = [1, 2, 3, 3]\n",
    "converted_set12 = set(list1)\n",
    "print(converted_set12)"
   ]
  },
  {
   "cell_type": "markdown",
   "id": "78d1d185",
   "metadata": {},
   "source": [
    "### Sets are immutable, we can't change the data elements of the sets once they are defined using the index method"
   ]
  },
  {
   "cell_type": "code",
   "execution_count": null,
   "id": "13b6d5d0",
   "metadata": {},
   "outputs": [],
   "source": [
    "# Again sets are unordered collections of data values, so indexing will not give the correct value instead raises a type error"
   ]
  },
  {
   "cell_type": "code",
   "execution_count": 26,
   "id": "b853b219",
   "metadata": {},
   "outputs": [
    {
     "name": "stdout",
     "output_type": "stream",
     "text": [
      "{1, 2, 3, 4, 5, 6, 7, 8, 9, 10}\n"
     ]
    }
   ],
   "source": [
    "set13 = {1, 2, 3, 4, 5, 6, 7, 8, 9, 10}\n",
    "print(set13)"
   ]
  },
  {
   "cell_type": "code",
   "execution_count": 27,
   "id": "a97cebf8",
   "metadata": {},
   "outputs": [
    {
     "ename": "TypeError",
     "evalue": "'set' object does not support item assignment",
     "output_type": "error",
     "traceback": [
      "\u001b[1;31m---------------------------------------------------------------------------\u001b[0m",
      "\u001b[1;31mTypeError\u001b[0m                                 Traceback (most recent call last)",
      "\u001b[1;32m~\\AppData\\Local\\Temp\\ipykernel_17576\\1524350253.py\u001b[0m in \u001b[0;36m<cell line: 1>\u001b[1;34m()\u001b[0m\n\u001b[1;32m----> 1\u001b[1;33m \u001b[0mset13\u001b[0m\u001b[1;33m[\u001b[0m\u001b[1;36m0\u001b[0m\u001b[1;33m]\u001b[0m \u001b[1;33m=\u001b[0m \u001b[1;36m20\u001b[0m\u001b[1;33m\u001b[0m\u001b[1;33m\u001b[0m\u001b[0m\n\u001b[0m\u001b[0;32m      2\u001b[0m \u001b[0mprint\u001b[0m\u001b[1;33m(\u001b[0m\u001b[0mset13\u001b[0m\u001b[1;33m)\u001b[0m\u001b[1;33m\u001b[0m\u001b[1;33m\u001b[0m\u001b[0m\n",
      "\u001b[1;31mTypeError\u001b[0m: 'set' object does not support item assignment"
     ]
    }
   ],
   "source": [
    "set13[0] = 20\n",
    "print(set13)"
   ]
  },
  {
   "cell_type": "code",
   "execution_count": 28,
   "id": "bc29e1d2",
   "metadata": {},
   "outputs": [
    {
     "ename": "TypeError",
     "evalue": "'set' object is not subscriptable",
     "output_type": "error",
     "traceback": [
      "\u001b[1;31m---------------------------------------------------------------------------\u001b[0m",
      "\u001b[1;31mTypeError\u001b[0m                                 Traceback (most recent call last)",
      "\u001b[1;32m~\\AppData\\Local\\Temp\\ipykernel_17576\\1917095413.py\u001b[0m in \u001b[0;36m<cell line: 1>\u001b[1;34m()\u001b[0m\n\u001b[1;32m----> 1\u001b[1;33m \u001b[0mprint\u001b[0m\u001b[1;33m(\u001b[0m\u001b[0mset13\u001b[0m\u001b[1;33m[\u001b[0m\u001b[1;36m0\u001b[0m\u001b[1;33m]\u001b[0m\u001b[1;33m)\u001b[0m\u001b[1;33m\u001b[0m\u001b[1;33m\u001b[0m\u001b[0m\n\u001b[0m",
      "\u001b[1;31mTypeError\u001b[0m: 'set' object is not subscriptable"
     ]
    }
   ],
   "source": [
    "print(set13[0])"
   ]
  },
  {
   "cell_type": "markdown",
   "id": "88d85d1a",
   "metadata": {},
   "source": [
    "#### We can use \"update\" method to update multiple values to the set"
   ]
  },
  {
   "cell_type": "code",
   "execution_count": 29,
   "id": "e17777fc",
   "metadata": {},
   "outputs": [
    {
     "name": "stdout",
     "output_type": "stream",
     "text": [
      "{1, 2, 3, 4, 5, 6, 7, 8, 9, 10}\n"
     ]
    }
   ],
   "source": [
    "set14 = {1, 2, 3, 4, 5, 6, 7, 8, 9, 10}\n",
    "print(set14)"
   ]
  },
  {
   "cell_type": "code",
   "execution_count": 30,
   "id": "007d141b",
   "metadata": {
    "scrolled": true
   },
   "outputs": [
    {
     "name": "stdout",
     "output_type": "stream",
     "text": [
      "{1, 2, 3, 4, 5, 6, 7, 8, 9, 10, 12, 14}\n"
     ]
    }
   ],
   "source": [
    "set14.update([12, 14])\n",
    "print(set14)"
   ]
  },
  {
   "cell_type": "markdown",
   "id": "182d0168",
   "metadata": {},
   "source": [
    "#### Difference between 'add' and 'update' method"
   ]
  },
  {
   "cell_type": "code",
   "execution_count": 31,
   "id": "4bb1c2ee",
   "metadata": {},
   "outputs": [
    {
     "ename": "TypeError",
     "evalue": "unhashable type: 'list'",
     "output_type": "error",
     "traceback": [
      "\u001b[1;31m---------------------------------------------------------------------------\u001b[0m",
      "\u001b[1;31mTypeError\u001b[0m                                 Traceback (most recent call last)",
      "\u001b[1;32m~\\AppData\\Local\\Temp\\ipykernel_17576\\2404122621.py\u001b[0m in \u001b[0;36m<cell line: 2>\u001b[1;34m()\u001b[0m\n\u001b[0;32m      1\u001b[0m \u001b[1;31m# The add method on the other hand will consider the iterable object as the single element, Let's see here\u001b[0m\u001b[1;33m\u001b[0m\u001b[1;33m\u001b[0m\u001b[0m\n\u001b[1;32m----> 2\u001b[1;33m \u001b[0mset14\u001b[0m\u001b[1;33m.\u001b[0m\u001b[0madd\u001b[0m\u001b[1;33m(\u001b[0m\u001b[1;33m[\u001b[0m\u001b[1;36m20\u001b[0m\u001b[1;33m,\u001b[0m \u001b[1;36m30\u001b[0m\u001b[1;33m]\u001b[0m\u001b[1;33m)\u001b[0m\u001b[1;33m\u001b[0m\u001b[1;33m\u001b[0m\u001b[0m\n\u001b[0m\u001b[0;32m      3\u001b[0m \u001b[0mprint\u001b[0m\u001b[1;33m(\u001b[0m\u001b[0mset14\u001b[0m\u001b[1;33m)\u001b[0m\u001b[1;33m\u001b[0m\u001b[1;33m\u001b[0m\u001b[0m\n",
      "\u001b[1;31mTypeError\u001b[0m: unhashable type: 'list'"
     ]
    }
   ],
   "source": [
    "# The add method on the other hand will consider the iterable object as the single element, Let's see here, remember \"add\" method will not accept lists\n",
    "# Because lists are of type unhashable\n",
    "set14.add([20, 30])\n",
    "print(set14)"
   ]
  },
  {
   "cell_type": "code",
   "execution_count": 33,
   "id": "5e52e237",
   "metadata": {},
   "outputs": [
    {
     "name": "stdout",
     "output_type": "stream",
     "text": [
      "{1, 2, 3, 4, 5, 6, 7, 8, 9, 10, (20, 30), 12, 14}\n"
     ]
    }
   ],
   "source": [
    "# But we can use the tuple to add to the set using \"add\" method\n",
    "set14.add((20, 30))\n",
    "print(set14)"
   ]
  },
  {
   "cell_type": "code",
   "execution_count": 34,
   "id": "3d86f4f4",
   "metadata": {},
   "outputs": [
    {
     "name": "stdout",
     "output_type": "stream",
     "text": [
      "{1, 2, 3, 4, 5, 6, 7, 8, 9, 10, (20, 30), 12, 40, 14, 50}\n"
     ]
    }
   ],
   "source": [
    "set14.update((40, 50))\n",
    "print(set14)"
   ]
  },
  {
   "cell_type": "code",
   "execution_count": 35,
   "id": "cc051aa8",
   "metadata": {},
   "outputs": [
    {
     "name": "stdout",
     "output_type": "stream",
     "text": [
      "{1, 2, 3, 4, 5, 6, 7, 8, 9, 10, 't', 12, 14, 'v', 40, 50, 'h', 'u', 'r', (20, 30), 'P', 'i'}\n"
     ]
    }
   ],
   "source": [
    "# update method will update each element of the iterable as a separate entity\n",
    "set14.update(\"Pruthvi\")\n",
    "print(set14)"
   ]
  },
  {
   "cell_type": "code",
   "execution_count": 36,
   "id": "fde4af46",
   "metadata": {},
   "outputs": [
    {
     "name": "stdout",
     "output_type": "stream",
     "text": [
      "{1, 2, 3, 4, 5, 6, 7, 8, 9, 10, 't', 12, 14, 'v', 40, 50, 'h', 'u', 'r', 'Python', (20, 30), 'P', 'i'}\n"
     ]
    }
   ],
   "source": [
    "# add method on the other hand will consider iterable itself as one single entity\n",
    "set14.add(\"Python\")\n",
    "print(set14)"
   ]
  },
  {
   "cell_type": "markdown",
   "id": "043f3617",
   "metadata": {},
   "source": [
    "### What are frozensets and how they work?"
   ]
  },
  {
   "cell_type": "code",
   "execution_count": null,
   "id": "5ad16c15",
   "metadata": {},
   "outputs": [],
   "source": [
    "# Frozen sets in Python are immutable objects that only support methods and operators that produce a result without affecting the frozen set or sets to \n",
    "#--which they are applied. While elements of a set can be modified at any time, elements of the frozen set remain the same after creation.\n",
    "#--If no parameters are passed, it returns an empty frozenset."
   ]
  },
  {
   "cell_type": "code",
   "execution_count": 37,
   "id": "037d5685",
   "metadata": {},
   "outputs": [
    {
     "name": "stdout",
     "output_type": "stream",
     "text": [
      "frozenset({'t', 'P', 'n', 'o', 'h', 'y'})\n"
     ]
    }
   ],
   "source": [
    "set15 = frozenset(\"Python\")\n",
    "print(set15)"
   ]
  },
  {
   "cell_type": "code",
   "execution_count": 38,
   "id": "7de73e2d",
   "metadata": {
    "collapsed": true
   },
   "outputs": [
    {
     "name": "stdout",
     "output_type": "stream",
     "text": [
      "Help on frozenset object:\n",
      "\n",
      "class frozenset(object)\n",
      " |  frozenset() -> empty frozenset object\n",
      " |  frozenset(iterable) -> frozenset object\n",
      " |  \n",
      " |  Build an immutable unordered collection of unique elements.\n",
      " |  \n",
      " |  Methods defined here:\n",
      " |  \n",
      " |  __and__(self, value, /)\n",
      " |      Return self&value.\n",
      " |  \n",
      " |  __contains__(...)\n",
      " |      x.__contains__(y) <==> y in x.\n",
      " |  \n",
      " |  __eq__(self, value, /)\n",
      " |      Return self==value.\n",
      " |  \n",
      " |  __ge__(self, value, /)\n",
      " |      Return self>=value.\n",
      " |  \n",
      " |  __getattribute__(self, name, /)\n",
      " |      Return getattr(self, name).\n",
      " |  \n",
      " |  __gt__(self, value, /)\n",
      " |      Return self>value.\n",
      " |  \n",
      " |  __hash__(self, /)\n",
      " |      Return hash(self).\n",
      " |  \n",
      " |  __iter__(self, /)\n",
      " |      Implement iter(self).\n",
      " |  \n",
      " |  __le__(self, value, /)\n",
      " |      Return self<=value.\n",
      " |  \n",
      " |  __len__(self, /)\n",
      " |      Return len(self).\n",
      " |  \n",
      " |  __lt__(self, value, /)\n",
      " |      Return self<value.\n",
      " |  \n",
      " |  __ne__(self, value, /)\n",
      " |      Return self!=value.\n",
      " |  \n",
      " |  __or__(self, value, /)\n",
      " |      Return self|value.\n",
      " |  \n",
      " |  __rand__(self, value, /)\n",
      " |      Return value&self.\n",
      " |  \n",
      " |  __reduce__(...)\n",
      " |      Return state information for pickling.\n",
      " |  \n",
      " |  __repr__(self, /)\n",
      " |      Return repr(self).\n",
      " |  \n",
      " |  __ror__(self, value, /)\n",
      " |      Return value|self.\n",
      " |  \n",
      " |  __rsub__(self, value, /)\n",
      " |      Return value-self.\n",
      " |  \n",
      " |  __rxor__(self, value, /)\n",
      " |      Return value^self.\n",
      " |  \n",
      " |  __sizeof__(...)\n",
      " |      S.__sizeof__() -> size of S in memory, in bytes\n",
      " |  \n",
      " |  __sub__(self, value, /)\n",
      " |      Return self-value.\n",
      " |  \n",
      " |  __xor__(self, value, /)\n",
      " |      Return self^value.\n",
      " |  \n",
      " |  copy(...)\n",
      " |      Return a shallow copy of a set.\n",
      " |  \n",
      " |  difference(...)\n",
      " |      Return the difference of two or more sets as a new set.\n",
      " |      \n",
      " |      (i.e. all elements that are in this set but not the others.)\n",
      " |  \n",
      " |  intersection(...)\n",
      " |      Return the intersection of two sets as a new set.\n",
      " |      \n",
      " |      (i.e. all elements that are in both sets.)\n",
      " |  \n",
      " |  isdisjoint(...)\n",
      " |      Return True if two sets have a null intersection.\n",
      " |  \n",
      " |  issubset(...)\n",
      " |      Report whether another set contains this set.\n",
      " |  \n",
      " |  issuperset(...)\n",
      " |      Report whether this set contains another set.\n",
      " |  \n",
      " |  symmetric_difference(...)\n",
      " |      Return the symmetric difference of two sets as a new set.\n",
      " |      \n",
      " |      (i.e. all elements that are in exactly one of the sets.)\n",
      " |  \n",
      " |  union(...)\n",
      " |      Return the union of sets as a new set.\n",
      " |      \n",
      " |      (i.e. all elements that are in either set.)\n",
      " |  \n",
      " |  ----------------------------------------------------------------------\n",
      " |  Class methods defined here:\n",
      " |  \n",
      " |  __class_getitem__(...) from builtins.type\n",
      " |      See PEP 585\n",
      " |  \n",
      " |  ----------------------------------------------------------------------\n",
      " |  Static methods defined here:\n",
      " |  \n",
      " |  __new__(*args, **kwargs) from builtins.type\n",
      " |      Create and return a new object.  See help(type) for accurate signature.\n",
      "\n"
     ]
    }
   ],
   "source": [
    "help(frozenset())"
   ]
  },
  {
   "cell_type": "code",
   "execution_count": 39,
   "id": "f1a377ed",
   "metadata": {
    "collapsed": true
   },
   "outputs": [
    {
     "name": "stdout",
     "output_type": "stream",
     "text": [
      "Help on set object:\n",
      "\n",
      "class set(object)\n",
      " |  set() -> new empty set object\n",
      " |  set(iterable) -> new set object\n",
      " |  \n",
      " |  Build an unordered collection of unique elements.\n",
      " |  \n",
      " |  Methods defined here:\n",
      " |  \n",
      " |  __and__(self, value, /)\n",
      " |      Return self&value.\n",
      " |  \n",
      " |  __contains__(...)\n",
      " |      x.__contains__(y) <==> y in x.\n",
      " |  \n",
      " |  __eq__(self, value, /)\n",
      " |      Return self==value.\n",
      " |  \n",
      " |  __ge__(self, value, /)\n",
      " |      Return self>=value.\n",
      " |  \n",
      " |  __getattribute__(self, name, /)\n",
      " |      Return getattr(self, name).\n",
      " |  \n",
      " |  __gt__(self, value, /)\n",
      " |      Return self>value.\n",
      " |  \n",
      " |  __iand__(self, value, /)\n",
      " |      Return self&=value.\n",
      " |  \n",
      " |  __init__(self, /, *args, **kwargs)\n",
      " |      Initialize self.  See help(type(self)) for accurate signature.\n",
      " |  \n",
      " |  __ior__(self, value, /)\n",
      " |      Return self|=value.\n",
      " |  \n",
      " |  __isub__(self, value, /)\n",
      " |      Return self-=value.\n",
      " |  \n",
      " |  __iter__(self, /)\n",
      " |      Implement iter(self).\n",
      " |  \n",
      " |  __ixor__(self, value, /)\n",
      " |      Return self^=value.\n",
      " |  \n",
      " |  __le__(self, value, /)\n",
      " |      Return self<=value.\n",
      " |  \n",
      " |  __len__(self, /)\n",
      " |      Return len(self).\n",
      " |  \n",
      " |  __lt__(self, value, /)\n",
      " |      Return self<value.\n",
      " |  \n",
      " |  __ne__(self, value, /)\n",
      " |      Return self!=value.\n",
      " |  \n",
      " |  __or__(self, value, /)\n",
      " |      Return self|value.\n",
      " |  \n",
      " |  __rand__(self, value, /)\n",
      " |      Return value&self.\n",
      " |  \n",
      " |  __reduce__(...)\n",
      " |      Return state information for pickling.\n",
      " |  \n",
      " |  __repr__(self, /)\n",
      " |      Return repr(self).\n",
      " |  \n",
      " |  __ror__(self, value, /)\n",
      " |      Return value|self.\n",
      " |  \n",
      " |  __rsub__(self, value, /)\n",
      " |      Return value-self.\n",
      " |  \n",
      " |  __rxor__(self, value, /)\n",
      " |      Return value^self.\n",
      " |  \n",
      " |  __sizeof__(...)\n",
      " |      S.__sizeof__() -> size of S in memory, in bytes\n",
      " |  \n",
      " |  __sub__(self, value, /)\n",
      " |      Return self-value.\n",
      " |  \n",
      " |  __xor__(self, value, /)\n",
      " |      Return self^value.\n",
      " |  \n",
      " |  add(...)\n",
      " |      Add an element to a set.\n",
      " |      \n",
      " |      This has no effect if the element is already present.\n",
      " |  \n",
      " |  clear(...)\n",
      " |      Remove all elements from this set.\n",
      " |  \n",
      " |  copy(...)\n",
      " |      Return a shallow copy of a set.\n",
      " |  \n",
      " |  difference(...)\n",
      " |      Return the difference of two or more sets as a new set.\n",
      " |      \n",
      " |      (i.e. all elements that are in this set but not the others.)\n",
      " |  \n",
      " |  difference_update(...)\n",
      " |      Remove all elements of another set from this set.\n",
      " |  \n",
      " |  discard(...)\n",
      " |      Remove an element from a set if it is a member.\n",
      " |      \n",
      " |      If the element is not a member, do nothing.\n",
      " |  \n",
      " |  intersection(...)\n",
      " |      Return the intersection of two sets as a new set.\n",
      " |      \n",
      " |      (i.e. all elements that are in both sets.)\n",
      " |  \n",
      " |  intersection_update(...)\n",
      " |      Update a set with the intersection of itself and another.\n",
      " |  \n",
      " |  isdisjoint(...)\n",
      " |      Return True if two sets have a null intersection.\n",
      " |  \n",
      " |  issubset(...)\n",
      " |      Report whether another set contains this set.\n",
      " |  \n",
      " |  issuperset(...)\n",
      " |      Report whether this set contains another set.\n",
      " |  \n",
      " |  pop(...)\n",
      " |      Remove and return an arbitrary set element.\n",
      " |      Raises KeyError if the set is empty.\n",
      " |  \n",
      " |  remove(...)\n",
      " |      Remove an element from a set; it must be a member.\n",
      " |      \n",
      " |      If the element is not a member, raise a KeyError.\n",
      " |  \n",
      " |  symmetric_difference(...)\n",
      " |      Return the symmetric difference of two sets as a new set.\n",
      " |      \n",
      " |      (i.e. all elements that are in exactly one of the sets.)\n",
      " |  \n",
      " |  symmetric_difference_update(...)\n",
      " |      Update a set with the symmetric difference of itself and another.\n",
      " |  \n",
      " |  union(...)\n",
      " |      Return the union of sets as a new set.\n",
      " |      \n",
      " |      (i.e. all elements that are in either set.)\n",
      " |  \n",
      " |  update(...)\n",
      " |      Update a set with the union of itself and others.\n",
      " |  \n",
      " |  ----------------------------------------------------------------------\n",
      " |  Class methods defined here:\n",
      " |  \n",
      " |  __class_getitem__(...) from builtins.type\n",
      " |      See PEP 585\n",
      " |  \n",
      " |  ----------------------------------------------------------------------\n",
      " |  Static methods defined here:\n",
      " |  \n",
      " |  __new__(*args, **kwargs) from builtins.type\n",
      " |      Create and return a new object.  See help(type) for accurate signature.\n",
      " |  \n",
      " |  ----------------------------------------------------------------------\n",
      " |  Data and other attributes defined here:\n",
      " |  \n",
      " |  __hash__ = None\n",
      "\n"
     ]
    }
   ],
   "source": [
    "help(set())"
   ]
  },
  {
   "cell_type": "code",
   "execution_count": 40,
   "id": "3f6f08ae",
   "metadata": {},
   "outputs": [
    {
     "ename": "AttributeError",
     "evalue": "'frozenset' object has no attribute 'add'",
     "output_type": "error",
     "traceback": [
      "\u001b[1;31m---------------------------------------------------------------------------\u001b[0m",
      "\u001b[1;31mAttributeError\u001b[0m                            Traceback (most recent call last)",
      "\u001b[1;32m~\\AppData\\Local\\Temp\\ipykernel_17576\\4047769034.py\u001b[0m in \u001b[0;36m<cell line: 1>\u001b[1;34m()\u001b[0m\n\u001b[1;32m----> 1\u001b[1;33m \u001b[0mset15\u001b[0m\u001b[1;33m.\u001b[0m\u001b[0madd\u001b[0m\u001b[1;33m(\u001b[0m\u001b[1;33m(\u001b[0m\u001b[1;36m2\u001b[0m\u001b[1;33m,\u001b[0m \u001b[1;36m3\u001b[0m\u001b[1;33m)\u001b[0m\u001b[1;33m)\u001b[0m\u001b[1;33m\u001b[0m\u001b[1;33m\u001b[0m\u001b[0m\n\u001b[0m",
      "\u001b[1;31mAttributeError\u001b[0m: 'frozenset' object has no attribute 'add'"
     ]
    }
   ],
   "source": [
    "# Frozenset has no method named 'add', because it is an immutable collection data elements\n",
    "set15.add((2, 3))"
   ]
  },
  {
   "cell_type": "code",
   "execution_count": 41,
   "id": "8bef9cc2",
   "metadata": {
    "scrolled": true
   },
   "outputs": [
    {
     "ename": "AttributeError",
     "evalue": "'frozenset' object has no attribute 'update'",
     "output_type": "error",
     "traceback": [
      "\u001b[1;31m---------------------------------------------------------------------------\u001b[0m",
      "\u001b[1;31mAttributeError\u001b[0m                            Traceback (most recent call last)",
      "\u001b[1;32m~\\AppData\\Local\\Temp\\ipykernel_17576\\3589621827.py\u001b[0m in \u001b[0;36m<cell line: 1>\u001b[1;34m()\u001b[0m\n\u001b[1;32m----> 1\u001b[1;33m \u001b[0mset15\u001b[0m\u001b[1;33m.\u001b[0m\u001b[0mupdate\u001b[0m\u001b[1;33m(\u001b[0m\u001b[1;36m9\u001b[0m\u001b[1;33m)\u001b[0m\u001b[1;33m\u001b[0m\u001b[1;33m\u001b[0m\u001b[0m\n\u001b[0m",
      "\u001b[1;31mAttributeError\u001b[0m: 'frozenset' object has no attribute 'update'"
     ]
    }
   ],
   "source": [
    "set15.update(9)"
   ]
  },
  {
   "cell_type": "markdown",
   "id": "b08c6e95",
   "metadata": {},
   "source": [
    "## Set Operations"
   ]
  },
  {
   "cell_type": "markdown",
   "id": "b61b3779",
   "metadata": {},
   "source": [
    "#### Set \"union\" method"
   ]
  },
  {
   "cell_type": "code",
   "execution_count": null,
   "id": "4f62b1b8",
   "metadata": {},
   "outputs": [],
   "source": [
    "# Union means \n",
    "# Returns a new set with elements from the set and the specified iterables.\n",
    "# Syntax: set.union(iterable, …)\n",
    "# iterable, …\n",
    "# Required. Iterable or multiple iterables to be compared against the set."
   ]
  },
  {
   "cell_type": "code",
   "execution_count": 2,
   "id": "266d9886",
   "metadata": {},
   "outputs": [
    {
     "data": {
      "text/plain": [
       "{1, 2, 3, 4, 5, 6, 7, 8, 9, 10, 11, 12, 13, 14, 15, 16, 17, 18, 19, 20}"
      ]
     },
     "execution_count": 2,
     "metadata": {},
     "output_type": "execute_result"
    }
   ],
   "source": [
    "set16 = {1, 2, 3, 4, 5, 6, 7, 8, 9, 10, 11, 12}\n",
    "set17 = {11, 12, 13, 14, 15, 16, 17, 18, 19, 20}\n",
    "set16.union(set17)"
   ]
  },
  {
   "cell_type": "code",
   "execution_count": 4,
   "id": "579a589d",
   "metadata": {},
   "outputs": [
    {
     "data": {
      "text/plain": [
       "{1, 2, 3, 4, 5, 6, 7, 8, 9, 10, 11, 12, 20, 30}"
      ]
     },
     "execution_count": 4,
     "metadata": {},
     "output_type": "execute_result"
    }
   ],
   "source": [
    "# We can directly use the iterable objects like set of objects, Lists, or Tuples or Strings\n",
    "# Let's begin with the set of objects eclosed in {}\n",
    "set16.union({20, 30, 10, 11})"
   ]
  },
  {
   "cell_type": "code",
   "execution_count": 5,
   "id": "804253b7",
   "metadata": {},
   "outputs": [
    {
     "data": {
      "text/plain": [
       "{1, 2, 3, 4, 5, 6, 7, 8, 9, 10, 11, 12, 21, 22}"
      ]
     },
     "execution_count": 5,
     "metadata": {},
     "output_type": "execute_result"
    }
   ],
   "source": [
    "# Union with lists and sets\n",
    "set16.union([21, 22, 10, 11, 9])"
   ]
  },
  {
   "cell_type": "code",
   "execution_count": 6,
   "id": "18ae0c44",
   "metadata": {},
   "outputs": [
    {
     "data": {
      "text/plain": [
       "{1, 2, 3, 4, 5, 6, 7, 8, 9, 10, 11, 12, 25, 26}"
      ]
     },
     "execution_count": 6,
     "metadata": {},
     "output_type": "execute_result"
    }
   ],
   "source": [
    "# Union with the tuple of objects\n",
    "set16.union((25, 26, 10, 1, 2, 3))"
   ]
  },
  {
   "cell_type": "code",
   "execution_count": 7,
   "id": "7b2b0b56",
   "metadata": {},
   "outputs": [
    {
     "data": {
      "text/plain": [
       "{1, 10, 11, 12, 2, 3, 4, 5, 6, 7, 8, 9, 'P', 'h', 'i', 'r', 't', 'u', 'v'}"
      ]
     },
     "execution_count": 7,
     "metadata": {},
     "output_type": "execute_result"
    }
   ],
   "source": [
    "# Union with the strings\n",
    "set16.union('Pruthvi')"
   ]
  },
  {
   "cell_type": "code",
   "execution_count": 9,
   "id": "b50baee5",
   "metadata": {},
   "outputs": [
    {
     "name": "stdout",
     "output_type": "stream",
     "text": [
      "{1, 2, 3, 4, 5, 6, 7, 8, 9, 10, 11, 12, 'u', 'h', 'i', 't', 24, 26, 27, 28, 'r', 30, 'P', 'v'}\n"
     ]
    }
   ],
   "source": [
    "# Union with all the iterables like lists, strings, tuples, sets \n",
    "set18 = set16.union([24, 26, 10], (26, 27, 30, 10), {27, 28, 11}, 'Pruthvi')\n",
    "print(set18)"
   ]
  },
  {
   "cell_type": "markdown",
   "id": "dfb7227e",
   "metadata": {},
   "source": [
    "#### Set \"intersection\" method"
   ]
  },
  {
   "cell_type": "code",
   "execution_count": null,
   "id": "69ed0cae",
   "metadata": {},
   "outputs": [],
   "source": [
    "## Returns a new set with elements common to the set and the specified iterables."
   ]
  },
  {
   "cell_type": "code",
   "execution_count": null,
   "id": "4fc3656a",
   "metadata": {},
   "outputs": [],
   "source": [
    "# Syntax: set.intersection(iterable, …)"
   ]
  },
  {
   "cell_type": "code",
   "execution_count": 10,
   "id": "fd1c4f56",
   "metadata": {},
   "outputs": [
    {
     "data": {
      "text/plain": [
       "{11, 12}"
      ]
     },
     "execution_count": 10,
     "metadata": {},
     "output_type": "execute_result"
    }
   ],
   "source": [
    "set16 = {1, 2, 3, 4, 5, 6, 7, 8, 9, 10, 11, 12}\n",
    "set17 = {11, 12, 13, 14, 15, 16, 17, 18, 19, 20}\n",
    "set16.intersection(set17)"
   ]
  },
  {
   "cell_type": "code",
   "execution_count": 11,
   "id": "5eb6be6c",
   "metadata": {},
   "outputs": [
    {
     "data": {
      "text/plain": [
       "{1, 2, 11, 12}"
      ]
     },
     "execution_count": 11,
     "metadata": {},
     "output_type": "execute_result"
    }
   ],
   "source": [
    "set16.intersection({11, 12, 20, 30, 40, 1, 2})"
   ]
  },
  {
   "cell_type": "code",
   "execution_count": 12,
   "id": "fd451645",
   "metadata": {},
   "outputs": [
    {
     "data": {
      "text/plain": [
       "{1, 2, 3, 10}"
      ]
     },
     "execution_count": 12,
     "metadata": {},
     "output_type": "execute_result"
    }
   ],
   "source": [
    "set16.intersection([1, 2, 3, 10, 30, 40])"
   ]
  },
  {
   "cell_type": "code",
   "execution_count": null,
   "id": "fa9b4151",
   "metadata": {},
   "outputs": [],
   "source": [
    "# Similarly we can use all the iterables we have mentioned in the set union method like lists, sets, tuples, strings etc."
   ]
  },
  {
   "cell_type": "code",
   "execution_count": null,
   "id": "d283c1dd",
   "metadata": {},
   "outputs": [],
   "source": []
  },
  {
   "cell_type": "markdown",
   "id": "92093020",
   "metadata": {},
   "source": [
    "#### Set \"difference\""
   ]
  },
  {
   "cell_type": "code",
   "execution_count": null,
   "id": "847efcc8",
   "metadata": {},
   "outputs": [],
   "source": [
    "# Syntax: set.difference(iterable, …)\n",
    "# Returns a new set with elements in the set that are not in the specified iterables."
   ]
  },
  {
   "cell_type": "code",
   "execution_count": 13,
   "id": "f18da129",
   "metadata": {},
   "outputs": [
    {
     "data": {
      "text/plain": [
       "{1, 2, 3, 4, 5, 6, 7, 8, 9, 10}"
      ]
     },
     "execution_count": 13,
     "metadata": {},
     "output_type": "execute_result"
    }
   ],
   "source": [
    "# Means if we consider two sets set16 & set17, the difference method will return only the elements which are not present in the set17 compared to set16\n",
    "# So, if we compare both the sets set16 & set17, we can see the elements 1, 2 upto 10 are in set16 but not in set17 where as the elements 11, 12, which are \n",
    "# present in both the sets are ignored along with the elements which are present only in set17. \n",
    "# Means here the set16 is considered as the differencing set and the set17 which got differenced by the set16\n",
    "set16.difference(set17)"
   ]
  },
  {
   "cell_type": "code",
   "execution_count": 14,
   "id": "1d0ea5a5",
   "metadata": {},
   "outputs": [
    {
     "data": {
      "text/plain": [
       "{13, 14, 15, 16, 17, 18, 19, 20}"
      ]
     },
     "execution_count": 14,
     "metadata": {},
     "output_type": "execute_result"
    }
   ],
   "source": [
    "# We can reverse the operation by selecting the set17 as the differencing set and the set16 as the differenced set from the set17\n",
    "# Once we do this operation, we can see only the elements which are in set17 but not in set16 have been return as the new set elements. \n",
    "set17.difference(set16)"
   ]
  },
  {
   "cell_type": "code",
   "execution_count": null,
   "id": "caa24e7c",
   "metadata": {},
   "outputs": [],
   "source": []
  },
  {
   "cell_type": "markdown",
   "id": "717c26d1",
   "metadata": {},
   "source": [
    "#### Set symmetric_difference"
   ]
  },
  {
   "cell_type": "code",
   "execution_count": null,
   "id": "2514619c",
   "metadata": {},
   "outputs": [],
   "source": [
    "# Returns a new set with elements in either of the set or the specified iterable but not in both the sets."
   ]
  },
  {
   "cell_type": "code",
   "execution_count": 15,
   "id": "2fe2d18c",
   "metadata": {},
   "outputs": [
    {
     "data": {
      "text/plain": [
       "{1, 2, 3, 4, 5, 6, 7, 8, 9, 10, 13, 14, 15, 16, 17, 18, 19, 20}"
      ]
     },
     "execution_count": 15,
     "metadata": {},
     "output_type": "execute_result"
    }
   ],
   "source": [
    "set16 = {1, 2, 3, 4, 5, 6, 7, 8, 9, 10, 11, 12}\n",
    "set17 = {11, 12, 13, 14, 15, 16, 17, 18, 19, 20}\n",
    "set16.symmetric_difference(set17) # Here the elements 11, 12 which are present in both the sets are removed and the elements which are either present\n",
    "# in set16 or set17 are collected. "
   ]
  },
  {
   "cell_type": "code",
   "execution_count": 16,
   "id": "234af60c",
   "metadata": {},
   "outputs": [
    {
     "data": {
      "text/plain": [
       "{1, 2, 4, 5}"
      ]
     },
     "execution_count": 16,
     "metadata": {},
     "output_type": "execute_result"
    }
   ],
   "source": [
    "# Here is the simple example for this \n",
    "{1, 2}.symmetric_difference([4, 5]) # Here no elements are common, so elements either present in {1, 2} or iterable [4, 5] are collected"
   ]
  },
  {
   "cell_type": "code",
   "execution_count": null,
   "id": "3d3bba60",
   "metadata": {},
   "outputs": [],
   "source": []
  },
  {
   "cell_type": "markdown",
   "id": "66c761b7",
   "metadata": {},
   "source": [
    "### Information From The Set"
   ]
  },
  {
   "cell_type": "markdown",
   "id": "db3caaeb",
   "metadata": {},
   "source": [
    "#### \"issuperset\""
   ]
  },
  {
   "cell_type": "code",
   "execution_count": null,
   "id": "4a713027",
   "metadata": {},
   "outputs": [],
   "source": [
    "# Returns a Boolean stating whether the set contains the specified set or iterable. The set or iterable where we search is called superset()"
   ]
  },
  {
   "cell_type": "code",
   "execution_count": 17,
   "id": "2e40fe0a",
   "metadata": {},
   "outputs": [
    {
     "data": {
      "text/plain": [
       "True"
      ]
     },
     "execution_count": 17,
     "metadata": {},
     "output_type": "execute_result"
    }
   ],
   "source": [
    "set16 = {1, 2, 3, 4, 5, 6, 7, 8, 9, 10, 11, 12}\n",
    "set16.issuperset([1, 2])"
   ]
  },
  {
   "cell_type": "code",
   "execution_count": 18,
   "id": "bb47f890",
   "metadata": {},
   "outputs": [
    {
     "data": {
      "text/plain": [
       "False"
      ]
     },
     "execution_count": 18,
     "metadata": {},
     "output_type": "execute_result"
    }
   ],
   "source": [
    "set16.issuperset([12, 13])"
   ]
  },
  {
   "cell_type": "code",
   "execution_count": 19,
   "id": "ef000748",
   "metadata": {},
   "outputs": [
    {
     "data": {
      "text/plain": [
       "True"
      ]
     },
     "execution_count": 19,
     "metadata": {},
     "output_type": "execute_result"
    }
   ],
   "source": [
    "# Empty set is considered as one of the set in non-empty set, because if we remove all the elements, we will be left with empty set only. \n",
    "{0, 1, 2, 3, 4}.issuperset(())"
   ]
  },
  {
   "cell_type": "markdown",
   "id": "e7c4c70a",
   "metadata": {},
   "source": [
    "#### \"issubset\""
   ]
  },
  {
   "cell_type": "code",
   "execution_count": null,
   "id": "2987415a",
   "metadata": {},
   "outputs": [],
   "source": [
    "# Returns a Boolean stating whether the set is contained in the specified set or iterable.\n",
    "# This method will check whether the set is a subset of the specified set or iterable\n",
    "set16 = {1, 2, 3, 4, 5, 6, 7, 8, 9, 10, 11, 12}"
   ]
  },
  {
   "cell_type": "code",
   "execution_count": 20,
   "id": "9452fc47",
   "metadata": {},
   "outputs": [
    {
     "data": {
      "text/plain": [
       "True"
      ]
     },
     "execution_count": 20,
     "metadata": {},
     "output_type": "execute_result"
    }
   ],
   "source": [
    "{1, 2}.issubset(set16)"
   ]
  },
  {
   "cell_type": "code",
   "execution_count": 21,
   "id": "cc1b86dd",
   "metadata": {},
   "outputs": [
    {
     "data": {
      "text/plain": [
       "False"
      ]
     },
     "execution_count": 21,
     "metadata": {},
     "output_type": "execute_result"
    }
   ],
   "source": [
    "{12, 13}.issubset(set16)"
   ]
  },
  {
   "cell_type": "code",
   "execution_count": 22,
   "id": "3aaf5541",
   "metadata": {},
   "outputs": [
    {
     "data": {
      "text/plain": [
       "False"
      ]
     },
     "execution_count": 22,
     "metadata": {},
     "output_type": "execute_result"
    }
   ],
   "source": [
    "{1, 2}.issubset({'A', 'B', 'C', 1, 3, 4})"
   ]
  },
  {
   "cell_type": "markdown",
   "id": "16d581e0",
   "metadata": {},
   "source": [
    "#### \"isdisjoint\""
   ]
  },
  {
   "cell_type": "code",
   "execution_count": 36,
   "id": "8c3f2cf1",
   "metadata": {},
   "outputs": [],
   "source": [
    "# Returns a Boolean stating whether the set contents overlap with the specified set or iterable.\n",
    "# Syntax:  set. isdisjoint(iterable)\n",
    "# Concluding Remark:  Sets are disjoint if and only if their intersection is the empty set. If the iterable is empty, returns True.\n",
    "set16 = {1, 2, 3, 4, 5, 6, 7, 8, 9, 10, 11, 12}"
   ]
  },
  {
   "cell_type": "code",
   "execution_count": 38,
   "id": "f2a5cbcb",
   "metadata": {},
   "outputs": [
    {
     "data": {
      "text/plain": [
       "False"
      ]
     },
     "execution_count": 38,
     "metadata": {},
     "output_type": "execute_result"
    }
   ],
   "source": [
    "set16.isdisjoint([1, 2])"
   ]
  },
  {
   "cell_type": "code",
   "execution_count": 39,
   "id": "70fc92ca",
   "metadata": {},
   "outputs": [
    {
     "data": {
      "text/plain": [
       "False"
      ]
     },
     "execution_count": 39,
     "metadata": {},
     "output_type": "execute_result"
    }
   ],
   "source": [
    "set16.isdisjoint([12, 13])"
   ]
  },
  {
   "cell_type": "code",
   "execution_count": 40,
   "id": "deed51fd",
   "metadata": {},
   "outputs": [
    {
     "data": {
      "text/plain": [
       "True"
      ]
     },
     "execution_count": 40,
     "metadata": {},
     "output_type": "execute_result"
    }
   ],
   "source": [
    "set16.isdisjoint([13, 14])"
   ]
  },
  {
   "cell_type": "code",
   "execution_count": null,
   "id": "5af54b7d",
   "metadata": {},
   "outputs": [],
   "source": []
  },
  {
   "cell_type": "markdown",
   "id": "20518404",
   "metadata": {},
   "source": [
    "### Set Operations Assignment"
   ]
  },
  {
   "cell_type": "markdown",
   "id": "30259921",
   "metadata": {},
   "source": [
    "#### \"difference_update\""
   ]
  },
  {
   "cell_type": "code",
   "execution_count": 47,
   "id": "96850fc6",
   "metadata": {},
   "outputs": [],
   "source": [
    "# Updates the set, removing elements found in others. It is similar to like difference but only the change is instead of returning the result, the result will be \n",
    "# updated as the new set\n",
    "set16 = {1, 2, 3, 4, 5, 6, 7, 8, 9, 10, 11, 12}\n",
    "set17 = {11, 12, 13, 14, 15, 16, 17, 18, 19, 20}"
   ]
  },
  {
   "cell_type": "code",
   "execution_count": 48,
   "id": "4df07421",
   "metadata": {},
   "outputs": [
    {
     "name": "stdout",
     "output_type": "stream",
     "text": [
      "{1, 2, 3, 4, 5, 6, 7, 8, 9, 10}\n",
      "{1, 2, 3, 4, 5, 6, 7, 8, 9, 10, 11, 12}\n"
     ]
    }
   ],
   "source": [
    "result = set16.difference(set17)\n",
    "print(result)\n",
    "print(set16)"
   ]
  },
  {
   "cell_type": "code",
   "execution_count": 49,
   "id": "5e2fed19",
   "metadata": {},
   "outputs": [
    {
     "name": "stdout",
     "output_type": "stream",
     "text": [
      "{1, 2, 3, 4, 5, 6, 7, 8, 9, 10}\n"
     ]
    }
   ],
   "source": [
    "set16.difference_update(set17) # set16 which is used as the differencing set is updated with the result.\n",
    "print(set16)"
   ]
  },
  {
   "cell_type": "markdown",
   "id": "7644d590",
   "metadata": {},
   "source": [
    "#### \"symmetric_difference_update\""
   ]
  },
  {
   "cell_type": "code",
   "execution_count": 51,
   "id": "b18d4e8a",
   "metadata": {},
   "outputs": [
    {
     "name": "stdout",
     "output_type": "stream",
     "text": [
      "{1, 2, 3, 4, 5, 6, 7, 8, 9, 10, 13, 14, 15, 16, 17, 18, 19, 20}\n",
      "{1, 2, 3, 4, 5, 6, 7, 8, 9, 10, 11, 12}\n"
     ]
    }
   ],
   "source": [
    "# Similarly symmetric_difference and its information version\n",
    "# Updates the set, keeping only elements found in either set or the specified iterable, but not in both.\n",
    "set16 = {1, 2, 3, 4, 5, 6, 7, 8, 9, 10, 11, 12}\n",
    "set17 = {11, 12, 13, 14, 15, 16, 17, 18, 19, 20}\n",
    "result_diffrence = set16.symmetric_difference(set17)\n",
    "print(result_diffrence)\n",
    "print(set16)"
   ]
  },
  {
   "cell_type": "code",
   "execution_count": 52,
   "id": "5a74f7d0",
   "metadata": {},
   "outputs": [
    {
     "name": "stdout",
     "output_type": "stream",
     "text": [
      "{1, 2, 3, 4, 5, 6, 7, 8, 9, 10, 13, 14, 15, 16, 17, 18, 19, 20}\n"
     ]
    }
   ],
   "source": [
    "set16.symmetric_difference_update(set17) # The result will updated to set16 which is used as the symmetric_diffrencing set\n",
    "print(set16)"
   ]
  },
  {
   "cell_type": "code",
   "execution_count": 54,
   "id": "085aa440",
   "metadata": {},
   "outputs": [
    {
     "name": "stdout",
     "output_type": "stream",
     "text": [
      "{1, 3}\n",
      "{1, 2}\n",
      "{1, 3}\n"
     ]
    }
   ],
   "source": [
    "s = {1, 2}\n",
    "result = s.symmetric_difference((2, 3))\n",
    "print(result)\n",
    "print(s)\n",
    "s.symmetric_difference_update((2, 3))\n",
    "print(s)"
   ]
  },
  {
   "cell_type": "markdown",
   "id": "387374a1",
   "metadata": {},
   "source": [
    "#### \"intersection_update\""
   ]
  },
  {
   "cell_type": "code",
   "execution_count": null,
   "id": "d372a86e",
   "metadata": {},
   "outputs": [],
   "source": [
    "# Updates the set, keeping only elements found in it and all others."
   ]
  },
  {
   "cell_type": "code",
   "execution_count": 56,
   "id": "8046effa",
   "metadata": {},
   "outputs": [
    {
     "name": "stdout",
     "output_type": "stream",
     "text": [
      "{11, 12}\n",
      "{1, 2, 3, 4, 5, 6, 7, 8, 9, 10, 11, 12}\n"
     ]
    }
   ],
   "source": [
    "set16 = {1, 2, 3, 4, 5, 6, 7, 8, 9, 10, 11, 12}\n",
    "set17 = {11, 12, 13, 14, 15, 16, 17, 18, 19, 20}\n",
    "result = set16.intersection(set17)\n",
    "print(result)\n",
    "print(set16)"
   ]
  },
  {
   "cell_type": "code",
   "execution_count": 57,
   "id": "3674b8a8",
   "metadata": {},
   "outputs": [
    {
     "name": "stdout",
     "output_type": "stream",
     "text": [
      "{11, 12}\n"
     ]
    }
   ],
   "source": [
    "set16.intersection_update(set17)\n",
    "print(set16)"
   ]
  },
  {
   "cell_type": "markdown",
   "id": "1dcbbed7",
   "metadata": {},
   "source": [
    "#### Set \"copy\" method"
   ]
  },
  {
   "cell_type": "code",
   "execution_count": null,
   "id": "684134d8",
   "metadata": {},
   "outputs": [],
   "source": [
    "# Copy:  It will return the copy of the original set"
   ]
  },
  {
   "cell_type": "code",
   "execution_count": 60,
   "id": "f260bb51",
   "metadata": {},
   "outputs": [
    {
     "name": "stdout",
     "output_type": "stream",
     "text": [
      "{1, 2, 3, 4, 5, 6, 7, 8, 9, 10, 11, 12}\n",
      "{1, 2, 3, 4, 5, 6, 7, 8, 9, 10, 11, 12}\n"
     ]
    }
   ],
   "source": [
    "set16 = {1, 2, 3, 4, 5, 6, 7, 8, 9, 10, 11, 12}\n",
    "set18 = set16.copy()\n",
    "print(set18)\n",
    "del set16\n",
    "#print(set16)\n",
    "print(set18)"
   ]
  },
  {
   "cell_type": "markdown",
   "id": "c1ba8c1f",
   "metadata": {},
   "source": [
    "### Set Operations"
   ]
  },
  {
   "cell_type": "raw",
   "id": "921d695e",
   "metadata": {},
   "source": [
    "# | (union)\n",
    "# Returns a new set with elements from the set and the other set."
   ]
  },
  {
   "cell_type": "code",
   "execution_count": 62,
   "id": "fc86a5ee",
   "metadata": {},
   "outputs": [
    {
     "name": "stdout",
     "output_type": "stream",
     "text": [
      "{1, 2, 3, 4, 5, 6, 7, 8, 9, 10, 11, 12, 13, 14}\n"
     ]
    }
   ],
   "source": [
    "set19 = {1, 2, 3, 4, 5, 6, 7, 8, 9, 10, 11, 12}\n",
    "set20 = {13, 14, 10, 9, 8, 7}\n",
    "set19 | set20\n",
    "# result_set = set19 | set20\n",
    "# print(result_set)"
   ]
  },
  {
   "cell_type": "raw",
   "id": "bfd7c408",
   "metadata": {},
   "source": [
    "# & (intersection)\n",
    "# Returns a new set with elements common to the set and the other set."
   ]
  },
  {
   "cell_type": "code",
   "execution_count": 63,
   "id": "cfc9d531",
   "metadata": {},
   "outputs": [
    {
     "data": {
      "text/plain": [
       "{7, 8, 9, 10}"
      ]
     },
     "execution_count": 63,
     "metadata": {},
     "output_type": "execute_result"
    }
   ],
   "source": [
    "set19 = {1, 2, 3, 4, 5, 6, 7, 8, 9, 10, 11, 12}\n",
    "set20 = {13, 14, 10, 9, 8, 7}\n",
    "set19 & set20"
   ]
  },
  {
   "cell_type": "raw",
   "id": "7d6d0a40",
   "metadata": {},
   "source": [
    "# - (difference)\n",
    "# Returns a new set with elements in the set that are not in the other set."
   ]
  },
  {
   "cell_type": "code",
   "execution_count": 64,
   "id": "7e670311",
   "metadata": {},
   "outputs": [
    {
     "data": {
      "text/plain": [
       "{1, 2, 3, 4, 5, 6, 11, 12}"
      ]
     },
     "execution_count": 64,
     "metadata": {},
     "output_type": "execute_result"
    }
   ],
   "source": [
    "set19 = {1, 2, 3, 4, 5, 6, 7, 8, 9, 10, 11, 12}\n",
    "set20 = {13, 14, 10, 9, 8, 7}\n",
    "set19 - set20"
   ]
  },
  {
   "cell_type": "code",
   "execution_count": 65,
   "id": "6ac0273f",
   "metadata": {},
   "outputs": [
    {
     "data": {
      "text/plain": [
       "{13, 14}"
      ]
     },
     "execution_count": 65,
     "metadata": {},
     "output_type": "execute_result"
    }
   ],
   "source": [
    "set20 - set19"
   ]
  },
  {
   "cell_type": "raw",
   "id": "99c1ad16",
   "metadata": {},
   "source": [
    "# ^ (symmetric_difference)\n",
    "# Returns a new set with elements in either the set or the other set but not both."
   ]
  },
  {
   "cell_type": "code",
   "execution_count": 66,
   "id": "5657fdc1",
   "metadata": {},
   "outputs": [
    {
     "data": {
      "text/plain": [
       "{1, 2, 3, 4, 5, 6, 11, 12, 13, 14}"
      ]
     },
     "execution_count": 66,
     "metadata": {},
     "output_type": "execute_result"
    }
   ],
   "source": [
    "set19 = {1, 2, 3, 4, 5, 6, 7, 8, 9, 10, 11, 12}\n",
    "set20 = {13, 14, 10, 9, 8, 7}\n",
    "set19 ^ set20"
   ]
  },
  {
   "cell_type": "markdown",
   "id": "915b4d91",
   "metadata": {},
   "source": [
    "### Set Operations Assignment"
   ]
  },
  {
   "cell_type": "raw",
   "id": "9522697d",
   "metadata": {},
   "source": [
    "#  -= (difference_update)\n",
    "# Updates the set, removing elements found in the other set."
   ]
  },
  {
   "cell_type": "code",
   "execution_count": 68,
   "id": "4a95e970",
   "metadata": {},
   "outputs": [
    {
     "name": "stdout",
     "output_type": "stream",
     "text": [
      "{1, 2, 3, 4, 5, 6, 11, 12}\n"
     ]
    }
   ],
   "source": [
    "set19 = {1, 2, 3, 4, 5, 6, 7, 8, 9, 10, 11, 12}\n",
    "set20 = {13, 14, 10, 9, 8, 7}\n",
    "set19 -= set20\n",
    "print(set19)"
   ]
  },
  {
   "cell_type": "raw",
   "id": "387e8e28",
   "metadata": {},
   "source": [
    "# &= (intersection_update)\n",
    "# Updates the set, keeping only elements found in it and the other set."
   ]
  },
  {
   "cell_type": "code",
   "execution_count": 69,
   "id": "1f13b11d",
   "metadata": {},
   "outputs": [
    {
     "name": "stdout",
     "output_type": "stream",
     "text": [
      "{8, 9, 10, 7}\n"
     ]
    }
   ],
   "source": [
    "set19 = {1, 2, 3, 4, 5, 6, 7, 8, 9, 10, 11, 12}\n",
    "set20 = {13, 14, 10, 9, 8, 7}\n",
    "set19 &= set20\n",
    "print(set19)"
   ]
  },
  {
   "cell_type": "raw",
   "id": "58841269",
   "metadata": {},
   "source": [
    "# ^= (symmetric_difference_update)\n",
    "# Updates the set, keeping only elements found in either set or the other set, but not in both."
   ]
  },
  {
   "cell_type": "code",
   "execution_count": 70,
   "id": "7a2e6904",
   "metadata": {},
   "outputs": [
    {
     "name": "stdout",
     "output_type": "stream",
     "text": [
      "{1, 2, 3, 4, 5, 6, 11, 12, 13, 14}\n"
     ]
    }
   ],
   "source": [
    "set19 = {1, 2, 3, 4, 5, 6, 7, 8, 9, 10, 11, 12}\n",
    "set20 = {13, 14, 10, 9, 8, 7}\n",
    "set19 ^= set20\n",
    "print(set19)"
   ]
  },
  {
   "cell_type": "markdown",
   "id": "6a37b6eb",
   "metadata": {},
   "source": [
    "### Relational Operators"
   ]
  },
  {
   "cell_type": "raw",
   "id": "d76512c4",
   "metadata": {},
   "source": [
    "# == (is equal)\n",
    "# Returns a Boolean stating whether the set has the same elements as the other set."
   ]
  },
  {
   "cell_type": "code",
   "execution_count": 71,
   "id": "668a5e4c",
   "metadata": {},
   "outputs": [
    {
     "data": {
      "text/plain": [
       "False"
      ]
     },
     "execution_count": 71,
     "metadata": {},
     "output_type": "execute_result"
    }
   ],
   "source": [
    "set19 = {1, 2, 3, 4, 5, 6, 7, 8, 9, 10, 11, 12}\n",
    "set20 = {13, 14, 10, 9, 8, 7}\n",
    "set19 == set20"
   ]
  },
  {
   "cell_type": "raw",
   "id": "ae886b0f",
   "metadata": {},
   "source": [
    "# != (is not equal)\n",
    "# Returns a Boolean stating whether the set has different elements as the other set."
   ]
  },
  {
   "cell_type": "code",
   "execution_count": 72,
   "id": "32e49598",
   "metadata": {},
   "outputs": [
    {
     "data": {
      "text/plain": [
       "True"
      ]
     },
     "execution_count": 72,
     "metadata": {},
     "output_type": "execute_result"
    }
   ],
   "source": [
    "set19 = {1, 2, 3, 4, 5, 6, 7, 8, 9, 10, 11, 12}\n",
    "set20 = {13, 14, 10, 9, 8, 7}\n",
    "set19 != set20"
   ]
  },
  {
   "cell_type": "raw",
   "id": "a7ea9f83",
   "metadata": {},
   "source": [
    "# <= (issubset)\n",
    "# Returns a Boolean stating whether the set is contained in the other set."
   ]
  },
  {
   "cell_type": "code",
   "execution_count": 84,
   "id": "05586cd4",
   "metadata": {},
   "outputs": [
    {
     "name": "stdout",
     "output_type": "stream",
     "text": [
      "False\n",
      "True\n"
     ]
    }
   ],
   "source": [
    "set19 = {7, 8, 9, 10, 11} # 11, 12}\n",
    "set20 = {10, 9, 8, 7}\n",
    "print(set19 <= set20)\n",
    "print(set20 <=  set19)"
   ]
  },
  {
   "cell_type": "code",
   "execution_count": 85,
   "id": "5f7bd728",
   "metadata": {},
   "outputs": [
    {
     "name": "stdout",
     "output_type": "stream",
     "text": [
      "False\n",
      "False\n"
     ]
    }
   ],
   "source": [
    "# < (issubset proper)\n",
    "# Returns a Boolean stating whether the set is contained in the specified set and that the sets are not equal.\n",
    "set19 = {7, 8, 9, 10} #11, 12}\n",
    "set20 = {10, 9, 8, 7}\n",
    "print(set19 < set20)\n",
    "print(set20 < set19)"
   ]
  },
  {
   "cell_type": "raw",
   "id": "69df2e9e",
   "metadata": {},
   "source": [
    "# >= (issuperset)\n",
    "# Returns a Boolean stating whether the set contains the other set."
   ]
  },
  {
   "cell_type": "code",
   "execution_count": 93,
   "id": "ebbca54e",
   "metadata": {},
   "outputs": [
    {
     "name": "stdout",
     "output_type": "stream",
     "text": [
      "True\n",
      "True\n"
     ]
    }
   ],
   "source": [
    "set21 = {1, 2, 3, 4, 5, 6, 7, 8, 9, 10, 11, 12}\n",
    "print(set21 >= set([1, 2]))\n",
    "# Let's check with the equal set and iterables\n",
    "set22 = {1, 2, 3}\n",
    "print(set22  >= set([1, 2, 3]))"
   ]
  },
  {
   "cell_type": "code",
   "execution_count": 95,
   "id": "0c0aa47a",
   "metadata": {},
   "outputs": [
    {
     "name": "stdout",
     "output_type": "stream",
     "text": [
      "True\n",
      "True\n",
      "False\n"
     ]
    }
   ],
   "source": [
    "# > (issuperset proper)\n",
    "# Returns a Boolean stating whether the set contains the other set and that the sets are not equal.\n",
    "set21 = {1, 2, 3, 4, 5, 6, 7, 8, 9, 10, 11, 12}\n",
    "print(set21 > set([1, 2]))\n",
    "# Another Example\n",
    "set21 = {1, 2, 3, 4}\n",
    "print(set21 > set([1, 2]))\n",
    "# Let's check with the equal set and iterables\n",
    "set22 = {1, 2, 3}\n",
    "print(set22  > set([1, 2, 3]))"
   ]
  },
  {
   "cell_type": "markdown",
   "id": "94e4bfee",
   "metadata": {},
   "source": [
    "### Built-In Python Functions on Sets"
   ]
  },
  {
   "cell_type": "raw",
   "id": "fa22d8f4",
   "metadata": {},
   "source": [
    "\"len\":\n",
    "Returns an int type specifying number of elements in the collection."
   ]
  },
  {
   "cell_type": "code",
   "execution_count": 96,
   "id": "99c43221",
   "metadata": {},
   "outputs": [
    {
     "name": "stdout",
     "output_type": "stream",
     "text": [
      "12\n"
     ]
    }
   ],
   "source": [
    "set21 = {1, 2, 3, 4, 5, 6, 7, 8, 9, 10, 11, 12}\n",
    "print(len(set21))"
   ]
  },
  {
   "cell_type": "raw",
   "id": "2be376d8",
   "metadata": {},
   "source": [
    "min\n",
    "Returns the smallest item from a collection."
   ]
  },
  {
   "cell_type": "code",
   "execution_count": 97,
   "id": "b269ec6a",
   "metadata": {},
   "outputs": [
    {
     "data": {
      "text/plain": [
       "1"
      ]
     },
     "execution_count": 97,
     "metadata": {},
     "output_type": "execute_result"
    }
   ],
   "source": [
    "min(set21)"
   ]
  },
  {
   "cell_type": "raw",
   "id": "80beeee7",
   "metadata": {},
   "source": [
    "max\n",
    "Returns the largest item in an iterable or the largest of two or more arguments."
   ]
  },
  {
   "cell_type": "code",
   "execution_count": 98,
   "id": "c29969ba",
   "metadata": {},
   "outputs": [
    {
     "data": {
      "text/plain": [
       "12"
      ]
     },
     "execution_count": 98,
     "metadata": {},
     "output_type": "execute_result"
    }
   ],
   "source": [
    "max(set21)"
   ]
  },
  {
   "cell_type": "raw",
   "id": "1be8b426",
   "metadata": {},
   "source": [
    "sum\n",
    "Returns a total of the items contained in the iterable object."
   ]
  },
  {
   "cell_type": "code",
   "execution_count": 99,
   "id": "24e0616b",
   "metadata": {},
   "outputs": [
    {
     "data": {
      "text/plain": [
       "78"
      ]
     },
     "execution_count": 99,
     "metadata": {},
     "output_type": "execute_result"
    }
   ],
   "source": [
    "sum(set21)"
   ]
  },
  {
   "cell_type": "raw",
   "id": "d1c3e283",
   "metadata": {},
   "source": [
    "sorted\n",
    "Returns a sorted list from the iterable."
   ]
  },
  {
   "cell_type": "code",
   "execution_count": 100,
   "id": "ea76eba7",
   "metadata": {},
   "outputs": [
    {
     "data": {
      "text/plain": [
       "[1, 2, 3, 4, 5, 6, 7, 8, 9, 10, 11, 12, 20, 24]"
      ]
     },
     "execution_count": 100,
     "metadata": {},
     "output_type": "execute_result"
    }
   ],
   "source": [
    "set21 = {1, 2, 3, 24, 20, 4, 5, 6, 7, 8, 9, 10, 11, 12}\n",
    "sorted(set21)"
   ]
  },
  {
   "cell_type": "raw",
   "id": "a1861363",
   "metadata": {},
   "source": [
    "reversed\n",
    "Returns a reverse iterator over a sequence."
   ]
  },
  {
   "cell_type": "code",
   "execution_count": 101,
   "id": "f72519dd",
   "metadata": {},
   "outputs": [
    {
     "ename": "TypeError",
     "evalue": "'set' object is not reversible",
     "output_type": "error",
     "traceback": [
      "\u001b[1;31m---------------------------------------------------------------------------\u001b[0m",
      "\u001b[1;31mTypeError\u001b[0m                                 Traceback (most recent call last)",
      "\u001b[1;32m~\\AppData\\Local\\Temp\\ipykernel_3560\\252681043.py\u001b[0m in \u001b[0;36m<cell line: 2>\u001b[1;34m()\u001b[0m\n\u001b[0;32m      1\u001b[0m \u001b[0mset21\u001b[0m \u001b[1;33m=\u001b[0m \u001b[1;33m{\u001b[0m\u001b[1;36m1\u001b[0m\u001b[1;33m,\u001b[0m \u001b[1;36m2\u001b[0m\u001b[1;33m,\u001b[0m \u001b[1;36m3\u001b[0m\u001b[1;33m,\u001b[0m \u001b[1;36m24\u001b[0m\u001b[1;33m,\u001b[0m \u001b[1;36m20\u001b[0m\u001b[1;33m,\u001b[0m \u001b[1;36m4\u001b[0m\u001b[1;33m,\u001b[0m \u001b[1;36m5\u001b[0m\u001b[1;33m,\u001b[0m \u001b[1;36m6\u001b[0m\u001b[1;33m,\u001b[0m \u001b[1;36m7\u001b[0m\u001b[1;33m,\u001b[0m \u001b[1;36m8\u001b[0m\u001b[1;33m,\u001b[0m \u001b[1;36m9\u001b[0m\u001b[1;33m,\u001b[0m \u001b[1;36m10\u001b[0m\u001b[1;33m,\u001b[0m \u001b[1;36m11\u001b[0m\u001b[1;33m,\u001b[0m \u001b[1;36m12\u001b[0m\u001b[1;33m}\u001b[0m\u001b[1;33m\u001b[0m\u001b[1;33m\u001b[0m\u001b[0m\n\u001b[1;32m----> 2\u001b[1;33m \u001b[0mreversed\u001b[0m\u001b[1;33m(\u001b[0m\u001b[0mset21\u001b[0m\u001b[1;33m)\u001b[0m\u001b[1;33m\u001b[0m\u001b[1;33m\u001b[0m\u001b[0m\n\u001b[0m",
      "\u001b[1;31mTypeError\u001b[0m: 'set' object is not reversible"
     ]
    }
   ],
   "source": [
    "set21 = {1, 2, 3, 24, 20, 4, 5, 6, 7, 8, 9, 10, 11, 12}\n",
    "reversed(set21)"
   ]
  },
  {
   "cell_type": "code",
   "execution_count": 112,
   "id": "5d71bae3",
   "metadata": {},
   "outputs": [
    {
     "name": "stdout",
     "output_type": "stream",
     "text": [
      "[1, 2, 3, 4, 5, 6, 7, 8, 9, 10, 11, 12, 20, 24]\n",
      "<list_reverseiterator object at 0x000002AC5D1B9FC0>\n"
     ]
    }
   ],
   "source": [
    "list_new = list(set21)\n",
    "print(list_new)\n",
    "print(reversed(list_new))"
   ]
  },
  {
   "cell_type": "code",
   "execution_count": 151,
   "id": "629be504",
   "metadata": {},
   "outputs": [
    {
     "name": "stdout",
     "output_type": "stream",
     "text": [
      "24 20 12 11 10 9 8 7 6 5 4 3 2 1 "
     ]
    }
   ],
   "source": [
    "list_new = list(set21)\n",
    "set_reversed = set()\n",
    "reversed_set = reversed(list_new)\n",
    "for item in reversed_set:\n",
    "    print(item, end=\" \")\n",
    "\n",
    "#print(set_reversed, end=\" \")"
   ]
  },
  {
   "cell_type": "markdown",
   "id": "89c4d7d6",
   "metadata": {},
   "source": [
    "#### We can use \"next()\" method to iterate over each item in the reversed iterator"
   ]
  },
  {
   "cell_type": "code",
   "execution_count": 158,
   "id": "f2593ad2",
   "metadata": {},
   "outputs": [
    {
     "name": "stdout",
     "output_type": "stream",
     "text": [
      "[1, 2, 3, 4, 5, 6, 7, 8, 9, 10, 11, 12, 20, 24]\n",
      "20 11 9 7 5 3 1 "
     ]
    }
   ],
   "source": [
    "set21 = {1, 2, 3, 24, 20, 4, 5, 6, 7, 8, 9, 10, 11, 12}\n",
    "list_new = list(set21)\n",
    "print(list_new)\n",
    "rev = reversed(list_new)\n",
    "for item in rev:\n",
    "    if item != set():\n",
    "        print(rev.__next__(), end=\" \")\n",
    "    elif item == set():\n",
    "        print(\"Iteration stopped\")\n",
    "#help(reversed)\n",
    "#rev.__next__()"
   ]
  },
  {
   "cell_type": "code",
   "execution_count": 159,
   "id": "b6b5b779",
   "metadata": {},
   "outputs": [
    {
     "name": "stdout",
     "output_type": "stream",
     "text": [
      "[1, 2, 3, 4, 5, 6, 7, 8, 9, 10, 11, 12, 20, 24]\n"
     ]
    },
    {
     "data": {
      "text/plain": [
       "24"
      ]
     },
     "execution_count": 159,
     "metadata": {},
     "output_type": "execute_result"
    }
   ],
   "source": [
    "set21 = {1, 2, 3, 24, 20, 4, 5, 6, 7, 8, 9, 10, 11, 12}\n",
    "list_new = list(set21)\n",
    "print(list_new)\n",
    "rev = reversed(list_new)\n",
    "rev.__next__()"
   ]
  },
  {
   "cell_type": "code",
   "execution_count": 160,
   "id": "7f73fb3c",
   "metadata": {},
   "outputs": [
    {
     "data": {
      "text/plain": [
       "20"
      ]
     },
     "execution_count": 160,
     "metadata": {},
     "output_type": "execute_result"
    }
   ],
   "source": [
    "rev.__next__()"
   ]
  },
  {
   "cell_type": "code",
   "execution_count": 161,
   "id": "7358f26b",
   "metadata": {},
   "outputs": [
    {
     "data": {
      "text/plain": [
       "12"
      ]
     },
     "execution_count": 161,
     "metadata": {},
     "output_type": "execute_result"
    }
   ],
   "source": [
    "rev.__next__()"
   ]
  },
  {
   "cell_type": "code",
   "execution_count": 162,
   "id": "2a3acf37",
   "metadata": {},
   "outputs": [
    {
     "data": {
      "text/plain": [
       "11"
      ]
     },
     "execution_count": 162,
     "metadata": {},
     "output_type": "execute_result"
    }
   ],
   "source": [
    "rev.__next__()"
   ]
  },
  {
   "cell_type": "code",
   "execution_count": 163,
   "id": "2b73b89b",
   "metadata": {},
   "outputs": [
    {
     "data": {
      "text/plain": [
       "10"
      ]
     },
     "execution_count": 163,
     "metadata": {},
     "output_type": "execute_result"
    }
   ],
   "source": [
    "rev.__next__()"
   ]
  },
  {
   "cell_type": "code",
   "execution_count": 164,
   "id": "98908693",
   "metadata": {},
   "outputs": [
    {
     "data": {
      "text/plain": [
       "9"
      ]
     },
     "execution_count": 164,
     "metadata": {},
     "output_type": "execute_result"
    }
   ],
   "source": [
    "rev.__next__()"
   ]
  },
  {
   "cell_type": "code",
   "execution_count": 165,
   "id": "a39f5d5a",
   "metadata": {},
   "outputs": [
    {
     "data": {
      "text/plain": [
       "8"
      ]
     },
     "execution_count": 165,
     "metadata": {},
     "output_type": "execute_result"
    }
   ],
   "source": [
    "rev.__next__()"
   ]
  },
  {
   "cell_type": "code",
   "execution_count": 166,
   "id": "108c571e",
   "metadata": {},
   "outputs": [
    {
     "data": {
      "text/plain": [
       "7"
      ]
     },
     "execution_count": 166,
     "metadata": {},
     "output_type": "execute_result"
    }
   ],
   "source": [
    "rev.__next__()"
   ]
  },
  {
   "cell_type": "code",
   "execution_count": 167,
   "id": "7487e407",
   "metadata": {},
   "outputs": [
    {
     "data": {
      "text/plain": [
       "6"
      ]
     },
     "execution_count": 167,
     "metadata": {},
     "output_type": "execute_result"
    }
   ],
   "source": [
    "rev.__next__()"
   ]
  },
  {
   "cell_type": "code",
   "execution_count": 168,
   "id": "1d44a8a1",
   "metadata": {},
   "outputs": [
    {
     "data": {
      "text/plain": [
       "5"
      ]
     },
     "execution_count": 168,
     "metadata": {},
     "output_type": "execute_result"
    }
   ],
   "source": [
    "rev.__next__()"
   ]
  },
  {
   "cell_type": "code",
   "execution_count": 169,
   "id": "293a291f",
   "metadata": {},
   "outputs": [
    {
     "data": {
      "text/plain": [
       "4"
      ]
     },
     "execution_count": 169,
     "metadata": {},
     "output_type": "execute_result"
    }
   ],
   "source": [
    "rev.__next__()"
   ]
  },
  {
   "cell_type": "code",
   "execution_count": 170,
   "id": "2c64a075",
   "metadata": {},
   "outputs": [
    {
     "data": {
      "text/plain": [
       "3"
      ]
     },
     "execution_count": 170,
     "metadata": {},
     "output_type": "execute_result"
    }
   ],
   "source": [
    "rev.__next__()"
   ]
  },
  {
   "cell_type": "code",
   "execution_count": 171,
   "id": "6ae88826",
   "metadata": {},
   "outputs": [
    {
     "data": {
      "text/plain": [
       "2"
      ]
     },
     "execution_count": 171,
     "metadata": {},
     "output_type": "execute_result"
    }
   ],
   "source": [
    "rev.__next__()"
   ]
  },
  {
   "cell_type": "code",
   "execution_count": 172,
   "id": "f45da70e",
   "metadata": {},
   "outputs": [
    {
     "data": {
      "text/plain": [
       "1"
      ]
     },
     "execution_count": 172,
     "metadata": {},
     "output_type": "execute_result"
    }
   ],
   "source": [
    "rev.__next__()"
   ]
  },
  {
   "cell_type": "code",
   "execution_count": 173,
   "id": "3f7c1e5a",
   "metadata": {},
   "outputs": [
    {
     "ename": "StopIteration",
     "evalue": "",
     "output_type": "error",
     "traceback": [
      "\u001b[1;31m---------------------------------------------------------------------------\u001b[0m",
      "\u001b[1;31mStopIteration\u001b[0m                             Traceback (most recent call last)",
      "\u001b[1;32m~\\AppData\\Local\\Temp\\ipykernel_3560\\1511362941.py\u001b[0m in \u001b[0;36m<cell line: 1>\u001b[1;34m()\u001b[0m\n\u001b[1;32m----> 1\u001b[1;33m \u001b[0mrev\u001b[0m\u001b[1;33m.\u001b[0m\u001b[0m__next__\u001b[0m\u001b[1;33m(\u001b[0m\u001b[1;33m)\u001b[0m\u001b[1;33m\u001b[0m\u001b[1;33m\u001b[0m\u001b[0m\n\u001b[0m",
      "\u001b[1;31mStopIteration\u001b[0m: "
     ]
    }
   ],
   "source": [
    "rev.__next__()"
   ]
  },
  {
   "cell_type": "raw",
   "id": "9173d242",
   "metadata": {},
   "source": [
    "all\n",
    "Returns a Boolean value that indicates whether the collection contains only values that evaluate to True."
   ]
  },
  {
   "cell_type": "code",
   "execution_count": 174,
   "id": "7e4a405b",
   "metadata": {},
   "outputs": [
    {
     "data": {
      "text/plain": [
       "True"
      ]
     },
     "execution_count": 174,
     "metadata": {},
     "output_type": "execute_result"
    }
   ],
   "source": [
    "set21 = {1, 2, 3, 24, 20, 4, 5, 6, 7, 8, 9, 10, 11, 12}\n",
    "all(set21)"
   ]
  },
  {
   "cell_type": "code",
   "execution_count": 176,
   "id": "73762a6e",
   "metadata": {},
   "outputs": [
    {
     "data": {
      "text/plain": [
       "False"
      ]
     },
     "execution_count": 176,
     "metadata": {},
     "output_type": "execute_result"
    }
   ],
   "source": [
    "set21_modified = {1, 2, 3, 24, 20, 4, 5, 6, 7, 8, 9, 10, 11, 0}\n",
    "all(set21_modified)"
   ]
  },
  {
   "cell_type": "code",
   "execution_count": 178,
   "id": "eaf26d9b",
   "metadata": {},
   "outputs": [
    {
     "name": "stdout",
     "output_type": "stream",
     "text": [
      "False\n",
      "True\n",
      "True\n",
      "True\n"
     ]
    }
   ],
   "source": [
    "print(all([True, False]))\n",
    "print(all([True, True]))\n",
    "print(all([]))\n",
    "print(all(set()))"
   ]
  },
  {
   "cell_type": "raw",
   "id": "32ee2acf",
   "metadata": {},
   "source": [
    "any\n",
    "Returns a Boolean value that indicates whether the collection contains any values that evaluate to True."
   ]
  },
  {
   "cell_type": "code",
   "execution_count": 179,
   "id": "4fbda486",
   "metadata": {},
   "outputs": [
    {
     "data": {
      "text/plain": [
       "True"
      ]
     },
     "execution_count": 179,
     "metadata": {},
     "output_type": "execute_result"
    }
   ],
   "source": [
    "set21 = {1, 2, 3, 24, 20, 4, 5, 6, 7, 8, 9, 10, 11, 12}\n",
    "any(set21)"
   ]
  },
  {
   "cell_type": "code",
   "execution_count": 180,
   "id": "ce5a2f64",
   "metadata": {},
   "outputs": [
    {
     "data": {
      "text/plain": [
       "True"
      ]
     },
     "execution_count": 180,
     "metadata": {},
     "output_type": "execute_result"
    }
   ],
   "source": [
    "set21_modified = {1, 2, 3, 24, 20, 4, 5, 6, 7, 8, 9, 10, 11, 0}\n",
    "any(set21_modified)"
   ]
  },
  {
   "cell_type": "code",
   "execution_count": 183,
   "id": "f0f7c6b7",
   "metadata": {},
   "outputs": [
    {
     "name": "stdout",
     "output_type": "stream",
     "text": [
      "True\n",
      "True\n",
      "False\n",
      "False\n"
     ]
    }
   ],
   "source": [
    "print(any([True, False]))\n",
    "print(any([True, True]))\n",
    "print(any([]))\n",
    "print(any(set()))"
   ]
  },
  {
   "cell_type": "markdown",
   "id": "7602a04b",
   "metadata": {},
   "source": [
    "#### \"enumerate()\" Method"
   ]
  },
  {
   "cell_type": "code",
   "execution_count": 188,
   "id": "c8bcd02e",
   "metadata": {},
   "outputs": [],
   "source": [
    "# This method enumerates through the elements in the iterable, starting from the 0th count\n",
    "# Syntax: enumerate(iterable, start=0)\n",
    "# The enumerate object yields pairs containing a count (from start, which defaults to zero) and a value yielded by the iterable argument."
   ]
  },
  {
   "cell_type": "code",
   "execution_count": null,
   "id": "2857efcd",
   "metadata": {},
   "outputs": [],
   "source": [
    "# Sets are unordered collection of data values, hence we may not get the values at the proper index positions, instead we will get randomly distributed values\n",
    "# at random index positions each time we run the program or set function."
   ]
  },
  {
   "cell_type": "code",
   "execution_count": 193,
   "id": "4f007d55",
   "metadata": {},
   "outputs": [
    {
     "name": "stdout",
     "output_type": "stream",
     "text": [
      "(0, 100)\n",
      "(1, 70)\n",
      "(2, 40)\n",
      "(3, 10)\n",
      "(4, 80)\n",
      "(5, 50)\n",
      "(6, 20)\n",
      "(7, 90)\n",
      "(8, 60)\n",
      "(9, 30)\n"
     ]
    }
   ],
   "source": [
    "set22 = {10, 20, 30, 40, 50, 60, 70, 80, 90, 100}\n",
    "for i in enumerate(set22):\n",
    "    print(i)"
   ]
  },
  {
   "cell_type": "code",
   "execution_count": 192,
   "id": "d8f3c930",
   "metadata": {},
   "outputs": [
    {
     "name": "stdout",
     "output_type": "stream",
     "text": [
      "(2, 100)\n",
      "(3, 70)\n",
      "(4, 40)\n",
      "(5, 10)\n",
      "(6, 80)\n",
      "(7, 50)\n",
      "(8, 20)\n",
      "(9, 90)\n",
      "(10, 60)\n",
      "(11, 30)\n"
     ]
    }
   ],
   "source": [
    "set22 = {10, 20, 30, 40, 50, 60, 70, 80, 90, 100}  # In this example we are counting from 2 instead of default count value 0\n",
    "for i in enumerate(set22, start=2):\n",
    "    print(i)"
   ]
  },
  {
   "cell_type": "code",
   "execution_count": 197,
   "id": "a7bd0abe",
   "metadata": {},
   "outputs": [
    {
     "name": "stdout",
     "output_type": "stream",
     "text": [
      "(0, 10)\n",
      "(1, 20)\n",
      "(2, 30)\n",
      "(3, 40)\n",
      "(4, 50)\n",
      "(5, 60)\n",
      "(6, 70)\n",
      "(7, 80)\n",
      "(8, 90)\n",
      "(9, 100)\n"
     ]
    }
   ],
   "source": [
    "# Lists on the other hand will yield well placed values at the particular index count value.\n",
    "list22 = [10, 20, 30, 40, 50, 60, 70, 80, 90, 100]\n",
    "for item in enumerate(list22):\n",
    "    print(item)"
   ]
  },
  {
   "cell_type": "code",
   "execution_count": 198,
   "id": "6aa60555",
   "metadata": {},
   "outputs": [
    {
     "name": "stdout",
     "output_type": "stream",
     "text": [
      "(2, 10)\n",
      "(3, 20)\n",
      "(4, 30)\n",
      "(5, 40)\n",
      "(6, 50)\n",
      "(7, 60)\n",
      "(8, 70)\n",
      "(9, 80)\n",
      "(10, 90)\n",
      "(11, 100)\n"
     ]
    }
   ],
   "source": [
    "list22 = [10, 20, 30, 40, 50, 60, 70, 80, 90, 100]  # In this example we are counting from 2 as the starting index count value instead of default count value 0\n",
    "for item in enumerate(list22, start=2):\n",
    "    print(item)"
   ]
  },
  {
   "cell_type": "code",
   "execution_count": 209,
   "id": "91ba7a76",
   "metadata": {},
   "outputs": [
    {
     "name": "stdout",
     "output_type": "stream",
     "text": [
      "(0, 1)\n",
      "(1, 2)\n",
      "(2, 3)\n",
      "(3, 4)\n"
     ]
    }
   ],
   "source": [
    "e = enumerate([1, 2, 3, 4, 5], 0)\n",
    "# e = enumerate([1, 2, 3], start=1)\n",
    "print(e.__next__())\n",
    "print(e.__next__())\n",
    "print(e.__next__())\n",
    "print(e.__next__())"
   ]
  },
  {
   "cell_type": "code",
   "execution_count": 210,
   "id": "8c749cb3",
   "metadata": {},
   "outputs": [
    {
     "name": "stdout",
     "output_type": "stream",
     "text": [
      "(4, 5)\n"
     ]
    }
   ],
   "source": [
    "print(e.__next__())"
   ]
  },
  {
   "cell_type": "code",
   "execution_count": 211,
   "id": "adb2ddd4",
   "metadata": {},
   "outputs": [
    {
     "ename": "StopIteration",
     "evalue": "",
     "output_type": "error",
     "traceback": [
      "\u001b[1;31m---------------------------------------------------------------------------\u001b[0m",
      "\u001b[1;31mStopIteration\u001b[0m                             Traceback (most recent call last)",
      "\u001b[1;32m~\\AppData\\Local\\Temp\\ipykernel_3560\\2759671659.py\u001b[0m in \u001b[0;36m<cell line: 1>\u001b[1;34m()\u001b[0m\n\u001b[1;32m----> 1\u001b[1;33m \u001b[0mprint\u001b[0m\u001b[1;33m(\u001b[0m\u001b[0me\u001b[0m\u001b[1;33m.\u001b[0m\u001b[0m__next__\u001b[0m\u001b[1;33m(\u001b[0m\u001b[1;33m)\u001b[0m\u001b[1;33m)\u001b[0m\u001b[1;33m\u001b[0m\u001b[1;33m\u001b[0m\u001b[0m\n\u001b[0m",
      "\u001b[1;31mStopIteration\u001b[0m: "
     ]
    }
   ],
   "source": [
    "print(e.__next__())"
   ]
  },
  {
   "cell_type": "code",
   "execution_count": 217,
   "id": "79eaaee0",
   "metadata": {},
   "outputs": [
    {
     "name": "stdout",
     "output_type": "stream",
     "text": [
      "(3, 10)\n",
      "(4, 20)\n",
      "(5, 30)\n",
      "(6, 40)\n",
      "(7, 50)\n",
      "(8, 60)\n",
      "(9, 70)\n",
      "(10, 80)\n",
      "(11, 90)\n",
      "(12, 100)\n"
     ]
    }
   ],
   "source": [
    "list22 = [10, 20, 30, 40, 50, 60, 70, 80, 90, 100]  #In this example we are counting from 3 as the starting index count value instead of default count value 0\n",
    "en = enumerate(list22, 3)\n",
    "for item in en:\n",
    "    print(item)\n",
    "    print(en.__next__())"
   ]
  },
  {
   "cell_type": "code",
   "execution_count": null,
   "id": "69df28f4",
   "metadata": {},
   "outputs": [],
   "source": []
  },
  {
   "cell_type": "code",
   "execution_count": null,
   "id": "7776f88c",
   "metadata": {},
   "outputs": [],
   "source": []
  }
 ],
 "metadata": {
  "kernelspec": {
   "display_name": "Python 3 (ipykernel)",
   "language": "python",
   "name": "python3"
  },
  "language_info": {
   "codemirror_mode": {
    "name": "ipython",
    "version": 3
   },
   "file_extension": ".py",
   "mimetype": "text/x-python",
   "name": "python",
   "nbconvert_exporter": "python",
   "pygments_lexer": "ipython3",
   "version": "3.10.8"
  }
 },
 "nbformat": 4,
 "nbformat_minor": 5
}
